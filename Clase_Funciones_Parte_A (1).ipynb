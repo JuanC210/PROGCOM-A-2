{
  "nbformat": 4,
  "nbformat_minor": 0,
  "metadata": {
    "colab": {
      "provenance": []
    },
    "kernelspec": {
      "name": "python3",
      "display_name": "Python 3"
    },
    "language_info": {
      "name": "python"
    }
  },
  "cells": [
    {
      "cell_type": "markdown",
      "source": [
        "##Función \n",
        "\n",
        "def(nombre cualquiera)(parámetros o argumentos):\n",
        " Lo que va dentro de la función "
      ],
      "metadata": {
        "id": "meuSr2ozz3oZ"
      }
    },
    {
      "cell_type": "markdown",
      "source": [
        "Tipos de funciones:\n",
        "\n",
        "1. Sin parámetros, sin retorno \n",
        "def manuel():\n",
        "\n",
        "2. Sin parámetros, con retorno \n",
        "def nivolás():\n",
        " print (\"Hola Nivolás):\n",
        "      print (\"Hola Nivolas\")\n",
        "\n",
        "      a=5\n",
        "\n",
        "      return a\n",
        "3. Con parámetros, sin retorno \n",
        "def holitas(a,\"b\",x=3):\n",
        "      \n",
        "      inta a\n",
        "      b=string\n",
        "      x=boolean\n",
        "\n",
        "     print(\"Hola Nivolás)\n",
        "      a=5\n",
        "4. Con parámetros, con retorno \n",
        "def holitas(a,\"b\",x=3):\n",
        "      \n",
        "      inta a\n",
        "      b=string\n",
        "      x=boolean\n",
        "\n",
        "     print(\"Hola Nivolás)\n",
        "\n",
        "     return a \n",
        "\n",
        "### Nota: Nivolás es a propósito \n"
      ],
      "metadata": {
        "id": "rejI9JXR1NZu"
      }
    },
    {
      "cell_type": "markdown",
      "source": [
        "Ejercicios"
      ],
      "metadata": {
        "id": "PFrUh4mh36s-"
      }
    },
    {
      "cell_type": "code",
      "execution_count": 1,
      "metadata": {
        "id": "xxY56dcgzxy_"
      },
      "outputs": [],
      "source": [
        "def salude():\n",
        "  print(\"Saludar\")\n",
        "  print(\"Es de cracks\")"
      ]
    },
    {
      "cell_type": "code",
      "source": [
        "salude()\n"
      ],
      "metadata": {
        "colab": {
          "base_uri": "https://localhost:8080/"
        },
        "id": "w7zoarhD4p9d",
        "outputId": "dfde6184-074f-4c1d-92e9-b316a1887e66"
      },
      "execution_count": 2,
      "outputs": [
        {
          "output_type": "stream",
          "name": "stdout",
          "text": [
            "Saludar\n",
            "Es de cracks\n"
          ]
        }
      ]
    },
    {
      "cell_type": "code",
      "source": [
        "def imprimir(a,b,c):\n",
        "  print(a,\"es el valor mayor\")\n",
        "  print(b,\"es el valor medio\")\n",
        "  print(c,\"es el valor menor\")\n"
      ],
      "metadata": {
        "id": "wuefxwpK721d"
      },
      "execution_count": 1,
      "outputs": []
    },
    {
      "cell_type": "code",
      "source": [
        "def comparar(a,b,c):\n",
        " if a!= b and a!=c and b!=c:\n",
        "  if a>b and a>c:\n",
        "    if b>c:\n",
        "       imprimir(a,b,c)\n",
        "    else:\n",
        "       imprimir(a,c,b)\n",
        "  elif b>a and b>c:\n",
        "    if a>c:\n",
        "       imprimir(b,a,c) \n",
        "    else:\n",
        "       imprimir(b,c,a) \n",
        "    if c>a and c>b:\n",
        "      if a>b:\n",
        "       imprimir(c,a,b) \n",
        "      else:\n",
        "       imprimir(c,b,a)\n",
        " else:\n",
        "  print(\"No se puede hacer el cálculo\")"
      ],
      "metadata": {
        "id": "03zENgctA0Ju"
      },
      "execution_count": 2,
      "outputs": []
    },
    {
      "cell_type": "code",
      "source": [
        "a=int(input(\"Ingrese un número\"))\n",
        "b=int(input(\"Ingrese un número\"))\n",
        "c=int(input(\"Ingrese un número\"))\n",
        "comparar(c,b,a)\n",
        " "
      ],
      "metadata": {
        "colab": {
          "base_uri": "https://localhost:8080/"
        },
        "id": "CtE8PwxiCzMr",
        "outputId": "921db313-c532-4f5e-bf16-0a5933326109"
      },
      "execution_count": 3,
      "outputs": [
        {
          "output_type": "stream",
          "name": "stdout",
          "text": [
            "Ingrese un número8\n",
            "Ingrese un número6\n",
            "Ingrese un número9\n",
            "9 es el valor mayor\n",
            "8 es el valor medio\n",
            "6 es el valor menor\n"
          ]
        }
      ]
    },
    {
      "cell_type": "code",
      "source": [
        "def comparar(X):\n",
        "  if X==\"a\" and X==\"e\" and X==\"i\"  and X==\"o\" and X==\"u\" and X==\"A\" and X==\"E\" and X==\"I\" and X==\"O\" and X==\"U\":\n",
        "    print(X,\"Es una vocal\")\n",
        "  else:\n",
        "    print(X, \"Es una consonante\")\n",
        "\n",
        "   "
      ],
      "metadata": {
        "id": "53QyQUy9G3nu"
      },
      "execution_count": 20,
      "outputs": []
    },
    {
      "cell_type": "code",
      "source": [
        "X=str(input(\"Ingrese una letra\"))\n",
        "comparar(X)"
      ],
      "metadata": {
        "colab": {
          "base_uri": "https://localhost:8080/"
        },
        "id": "uIJhnuR3GLDg",
        "outputId": "ca78d38b-0dcc-47ad-eb12-f2229576c5c5"
      },
      "execution_count": 22,
      "outputs": [
        {
          "output_type": "stream",
          "name": "stdout",
          "text": [
            "Ingrese una letraQ\n",
            "Q Es una consonante\n"
          ]
        }
      ]
    }
  ]
}