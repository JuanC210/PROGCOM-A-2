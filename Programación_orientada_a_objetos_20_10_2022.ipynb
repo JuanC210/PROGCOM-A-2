{
  "nbformat": 4,
  "nbformat_minor": 0,
  "metadata": {
    "colab": {
      "provenance": []
    },
    "kernelspec": {
      "name": "python3",
      "display_name": "Python 3"
    },
    "language_info": {
      "name": "python"
    }
  },
  "cells": [
    {
      "cell_type": "markdown",
      "source": [
        "#POO(Programación orientada a objetos)\n",
        "Clase es como un molde\n",
        "* Variables--->atributos\n",
        "* Funciones--->métodos\n",
        "* Contructor-->constituye una clae\n",
        "* Objetos: Comparten atributos, métodos, relaciobes que tienen una identidad propia"
      ],
      "metadata": {
        "id": "_m0B_pWvDifg"
      }
    },
    {
      "cell_type": "code",
      "execution_count": 6,
      "metadata": {
        "id": "IauFT59u92Ec"
      },
      "outputs": [],
      "source": [
        "class Mascotas():\n",
        "   pass\n"
      ]
    },
    {
      "cell_type": "code",
      "source": [
        "a=Mascotas\n",
        "b=Mascotas"
      ],
      "metadata": {
        "id": "_s0I43I4E8Nm"
      },
      "execution_count": 8,
      "outputs": []
    },
    {
      "cell_type": "code",
      "source": [
        "if a==b:\n",
        "  print(\"Son iguanitos\")\n",
        "else:\n",
        "   print(\"No son iguanitos\")"
      ],
      "metadata": {
        "colab": {
          "base_uri": "https://localhost:8080/"
        },
        "id": "JyVXy7kWGYFE",
        "outputId": "8a3ad583-82ef-48fe-8430-4f587d5e82e5"
      },
      "execution_count": 9,
      "outputs": [
        {
          "output_type": "stream",
          "name": "stdout",
          "text": [
            "Son iguanitos\n"
          ]
        }
      ]
    },
    {
      "cell_type": "code",
      "source": [
        "class Empleado():\n",
        "  #Constryuyendo un constructor \n",
        "  def __init__(self, nombre, edad, ID,salario):\n",
        "   self.nombre=nombre\n",
        "   self.edad=edad\n",
        "   self.ID=ID\n",
        "   self.salario=salario\n",
        "\n",
        "\n",
        "  def __repr__(self):\n",
        "    return f\"nombre:{self.nombre}, edad:{self.edad}, ID:{self.ID}, salario:{self.Salario}\""
      ],
      "metadata": {
        "id": "AirgO8paGzAo"
      },
      "execution_count": 19,
      "outputs": []
    },
    {
      "cell_type": "code",
      "source": [
        "sonia=Empleado(\"Sonia\",25,\"U00152314\",10000000)"
      ],
      "metadata": {
        "id": "VcQZRt5PHp2T"
      },
      "execution_count": 14,
      "outputs": []
    },
    {
      "cell_type": "code",
      "source": [
        "sonia.nombre"
      ],
      "metadata": {
        "colab": {
          "base_uri": "https://localhost:8080/",
          "height": 35
        },
        "id": "oPTswPyQH7dC",
        "outputId": "1eae373b-21d6-4010-d460-c945c5ae9f8a"
      },
      "execution_count": 17,
      "outputs": [
        {
          "output_type": "execute_result",
          "data": {
            "text/plain": [
              "'Sonia'"
            ],
            "application/vnd.google.colaboratory.intrinsic+json": {
              "type": "string"
            }
          },
          "metadata": {},
          "execution_count": 17
        }
      ]
    },
    {
      "cell_type": "code",
      "source": [
        "sonia.__dict__"
      ],
      "metadata": {
        "colab": {
          "base_uri": "https://localhost:8080/"
        },
        "id": "FPw1q8FvIcrj",
        "outputId": "a04209af-2a78-4696-8279-6a4b1e190f3e"
      },
      "execution_count": 18,
      "outputs": [
        {
          "output_type": "execute_result",
          "data": {
            "text/plain": [
              "{'nombre': 'Sonia', 'edad': 25, 'ID': 'U00152314', 'salario': 10000000}"
            ]
          },
          "metadata": {},
          "execution_count": 18
        }
      ]
    },
    {
      "cell_type": "code",
      "source": [
        "madaniel=Empleado(\"Pirulais\",83,\"U00152345\",1000000)"
      ],
      "metadata": {
        "id": "Gf9-STHgNkrI"
      },
      "execution_count": 20,
      "outputs": []
    },
    {
      "cell_type": "code",
      "source": [
        "if sonia.salario==madaniel.salario:\n",
        "  print(f\"El salario de {madaniel.nombre} y {sonia.nombre} son iguales\")\n",
        "elif sonia.salario > madaniel.salario:\n",
        "  print(f\"El salario de {madaniel.nombre} es menor al de {sonia.nombre} \")\n",
        "else:\n",
        "  print(f\"El salario de {madaniel.nombre} es mayor al de {sonia.nombre} \")"
      ],
      "metadata": {
        "colab": {
          "base_uri": "https://localhost:8080/"
        },
        "id": "Ltj0O3kjN2Yp",
        "outputId": "e810adbc-098f-4f2d-c89b-90b1e0cf91ce"
      },
      "execution_count": 26,
      "outputs": [
        {
          "output_type": "stream",
          "name": "stdout",
          "text": [
            "El salario de Pirulais es menor al de Sonia \n"
          ]
        }
      ]
    },
    {
      "cell_type": "code",
      "source": [
        "class Fraccion:\n",
        "  #Atributos de clase\n",
        "  num=0\n",
        "  den=1\n",
        "  #Creando el constructor\n",
        "  def __init__(self,num=0,den=1):\n",
        "    self.num=num\n",
        "    self.den=den\n",
        "\n",
        "  def multiplica(self,b):\n",
        "    num=self.num*b.num\n",
        "    den=self.den*b.den\n",
        "    r=Fraccion(num,den)\n",
        "    return r\n",
        "\n",
        "  def imprime(self):\n",
        "    print(self.num,\"/\",self.den)\n",
        "              \n",
        "\n",
        "\n"
      ],
      "metadata": {
        "id": "_8hMf7DMO6rK"
      },
      "execution_count": 44,
      "outputs": []
    },
    {
      "cell_type": "code",
      "source": [
        "#Creando objectos tipo Fracción\n",
        "a1=Fraccion(4,5)\n",
        "a2=Fraccion(8,9)"
      ],
      "metadata": {
        "id": "ctzCxwVBRRc0"
      },
      "execution_count": 49,
      "outputs": []
    },
    {
      "cell_type": "code",
      "source": [
        "a1.imprime()\n",
        "a2.imprime()"
      ],
      "metadata": {
        "colab": {
          "base_uri": "https://localhost:8080/"
        },
        "id": "khL-XBDWRiFD",
        "outputId": "01ed0a65-cae1-4a8f-f3a2-83b0fbd8e042"
      },
      "execution_count": 48,
      "outputs": [
        {
          "output_type": "stream",
          "name": "stdout",
          "text": [
            "4 / 5\n",
            "8 / 9\n"
          ]
        }
      ]
    },
    {
      "cell_type": "code",
      "source": [
        "c=a1.multiplica(a2)"
      ],
      "metadata": {
        "id": "2RiY9UHAS7b4"
      },
      "execution_count": 50,
      "outputs": []
    },
    {
      "cell_type": "code",
      "source": [
        "c.imprime()"
      ],
      "metadata": {
        "colab": {
          "base_uri": "https://localhost:8080/"
        },
        "id": "2X_-kzl3TwBj",
        "outputId": "bb8c4cec-d453-4f05-f0d5-e25cfbfc7d8a"
      },
      "execution_count": 51,
      "outputs": [
        {
          "output_type": "stream",
          "name": "stdout",
          "text": [
            "32 / 45\n"
          ]
        }
      ]
    }
  ]
}