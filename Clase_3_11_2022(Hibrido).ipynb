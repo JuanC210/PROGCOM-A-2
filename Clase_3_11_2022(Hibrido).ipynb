{
  "nbformat": 4,
  "nbformat_minor": 0,
  "metadata": {
    "colab": {
      "provenance": []
    },
    "kernelspec": {
      "name": "python3",
      "display_name": "Python 3"
    },
    "language_info": {
      "name": "python"
    }
  },
  "cells": [
    {
      "cell_type": "code",
      "source": [
        "class Sayayin():\n",
        "  def _init_(self,nombre,cabello, ojos, fuerza, estatura,cola_de_mono):\n",
        "    self.cabello=\"negro\"\n",
        "    self.ojos=\"negro\"\n",
        "    self.fuerza=fuerza\n",
        "    self.estatura=estatura\n",
        "    self.cola_de_mono=True\n",
        "    self.nombre=nombre\n",
        "  \n",
        "  def color_cabello(self,fuerza_base):\n",
        "    fuerza_t=90000\n",
        "    if fuerza_base*10>=fuerza_t:\n",
        "      print(\"Alcanza nivel sayayin fase 1\")\n",
        "      self.cabello=\"rubio\"\n",
        "    elif fuerza_base*20>=fuerza_t*20:\n",
        "      print(\"Alcanza nivel sayayin fase 2\")\n",
        "      self.cabello=\"rubio\"\n",
        "    elif fuerza_base*1000>=fuerza_t*1000:\n",
        "      print(\"Alcanza nivel sayayin fase 4\")\n",
        "      self.cabello=\"negro\"\n",
        "      if self.cola==False:\n",
        "        self.cola=True\n",
        "    else:\n",
        "      print(self.nombre,\" Alcanza nivel sayayin ultrainstinto\")\n",
        "      self.cabello=\"cenizo\"\n",
        "\n",
        "  def luna(self,luna):\n",
        "    if self.cola and luna==\"luna llena\":\n",
        "      print(self.nombre,\" se convierte en ozaru\")\n",
        "      self.fuerza=self.fuerza*50\n",
        "    else:\n",
        "      print(self.nombre, \" no se transforma en na':v\")\n",
        "\n",
        "  def trabajo(self,trabajo):\n",
        "    if trabajo==1:\n",
        "      print(f\"{self.nombre} es de tipo guerrero\")\n",
        "    elif trabajo==2:\n",
        "      print(f\"{self.nombre} es de tipo liendra de freezer\")\n",
        "    elif trabajo==3:\n",
        "      print(f\"{self.nombre} es de tipo mercenarios\")\n",
        "    else:\n",
        "      print(f\"{self.nombre} es de la realeza\")"
      ],
      "metadata": {
        "id": "B2HsAHjTOJv4"
      },
      "execution_count": 1,
      "outputs": []
    },
    {
      "cell_type": "code",
      "source": [
        "class Humano():\n",
        "  def _init_(self,nombre,cabello, ojos, fuerza, estatura):\n",
        "    self.cabello=cabello\n",
        "    self.ojos=ojos\n",
        "    self.fuerza=fuerza\n",
        "    self.estatura=estatura\n",
        "    self.nombre=nombre\n",
        "  \n",
        "  def color_cabello(self,tinte):\n",
        "    if tinte==0:\n",
        "      print(self.nombre,\"ha decolorado su cabello\")\n",
        "      self.cabello=\"amarillo\"\n",
        "    elif tinte==2:\n",
        "      print(self.nombre,\"ha colorado su cabello de lila\")\n",
        "      self.cabello=\"lila\"\n",
        "    elif tinte==3:\n",
        "      print(self.nombre,\"ha colorado su cabello nuez\")\n",
        "      self.cabello=\"nuez\"\n",
        "    else:\n",
        "      print(self.nombre,\"ha colorado su cabello canoso\")\n",
        "      self.cabello=\"canoso\"\n",
        "\n",
        "  def trabajo(self,trabajo):\n",
        "    if trabajo==1:\n",
        "      print(f\"{self.nombre} trabaja como callcenter\")\n",
        "    elif trabajo==2:\n",
        "      print(f\"{self.nombre} trabaja como vendedor de bonice\")\n",
        "    elif trabajo==3:\n",
        "      print(f\"{self.nombre} trabaja como tombo\")\n",
        "    elif trabajo==4:\n",
        "      print(f\"{self.nombre} trabaja como programador de python\")\n",
        "    else:\n",
        "      print(f\"{self.nombre} es nini\")"
      ],
      "metadata": {
        "id": "8a0HT_cxOZPo"
      },
      "execution_count": 2,
      "outputs": []
    },
    {
      "cell_type": "code",
      "source": [
        "class Hibrido(Sayayin,Humano):\n",
        " pass\n"
      ],
      "metadata": {
        "id": "p4dy09ksSNUo"
      },
      "execution_count": 3,
      "outputs": []
    },
    {
      "cell_type": "code",
      "source": [
        "goku=Sayayin(\"Kakaroto\",\"Arcoíris\",\"Verde-dorado\",100,50,True)\n",
        "Goku.__dict__"
      ],
      "metadata": {
        "colab": {
          "base_uri": "https://localhost:8080/",
          "height": 183
        },
        "id": "OaeGasE9Sw02",
        "outputId": "7a6a249c-3a29-4893-d6bb-b6473b759ec8"
      },
      "execution_count": 6,
      "outputs": [
        {
          "output_type": "error",
          "ename": "TypeError",
          "evalue": "ignored",
          "traceback": [
            "\u001b[0;31m---------------------------------------------------------------------------\u001b[0m",
            "\u001b[0;31mTypeError\u001b[0m                                 Traceback (most recent call last)",
            "\u001b[0;32m<ipython-input-6-b191a2410078>\u001b[0m in \u001b[0;36m<module>\u001b[0;34m\u001b[0m\n\u001b[0;32m----> 1\u001b[0;31m \u001b[0mgoku\u001b[0m\u001b[0;34m=\u001b[0m\u001b[0mSayayin\u001b[0m\u001b[0;34m(\u001b[0m\u001b[0;34m\"Kakaroto\"\u001b[0m\u001b[0;34m,\u001b[0m\u001b[0;34m\"Arcoíris\"\u001b[0m\u001b[0;34m,\u001b[0m\u001b[0;34m\"Verde-dorado\"\u001b[0m\u001b[0;34m,\u001b[0m\u001b[0;36m100\u001b[0m\u001b[0;34m,\u001b[0m\u001b[0;36m50\u001b[0m\u001b[0;34m,\u001b[0m\u001b[0;32mTrue\u001b[0m\u001b[0;34m)\u001b[0m\u001b[0;34m\u001b[0m\u001b[0;34m\u001b[0m\u001b[0m\n\u001b[0m\u001b[1;32m      2\u001b[0m \u001b[0mGoku\u001b[0m\u001b[0;34m.\u001b[0m\u001b[0m__dict__\u001b[0m\u001b[0;34m\u001b[0m\u001b[0;34m\u001b[0m\u001b[0m\n",
            "\u001b[0;31mTypeError\u001b[0m: Sayayin() takes no arguments"
          ]
        }
      ]
    },
    {
      "cell_type": "code",
      "source": [
        "milk=Humano(\"Milk\",\"negro\",\"negro\",100,50)"
      ],
      "metadata": {
        "colab": {
          "base_uri": "https://localhost:8080/",
          "height": 165
        },
        "id": "pjXyt4GWTSuW",
        "outputId": "3af1a7bb-77d9-42e7-ccc0-9ed96e244a82"
      },
      "execution_count": 7,
      "outputs": [
        {
          "output_type": "error",
          "ename": "TypeError",
          "evalue": "ignored",
          "traceback": [
            "\u001b[0;31m---------------------------------------------------------------------------\u001b[0m",
            "\u001b[0;31mTypeError\u001b[0m                                 Traceback (most recent call last)",
            "\u001b[0;32m<ipython-input-7-f79a0b085f04>\u001b[0m in \u001b[0;36m<module>\u001b[0;34m\u001b[0m\n\u001b[0;32m----> 1\u001b[0;31m \u001b[0mmilk\u001b[0m\u001b[0;34m=\u001b[0m\u001b[0mHumano\u001b[0m\u001b[0;34m(\u001b[0m\u001b[0;34m\"Milk\"\u001b[0m\u001b[0;34m,\u001b[0m\u001b[0;34m\"negro\"\u001b[0m\u001b[0;34m,\u001b[0m\u001b[0;34m\"negro\"\u001b[0m\u001b[0;34m,\u001b[0m\u001b[0;36m100\u001b[0m\u001b[0;34m,\u001b[0m\u001b[0;36m50\u001b[0m\u001b[0;34m)\u001b[0m\u001b[0;34m\u001b[0m\u001b[0;34m\u001b[0m\u001b[0m\n\u001b[0m",
            "\u001b[0;31mTypeError\u001b[0m: Humano() takes no arguments"
          ]
        }
      ]
    },
    {
      "cell_type": "code",
      "source": [
        "gohan=Hibrido(\"Gohan\",\"Negro\",\"Aguamarina\")"
      ],
      "metadata": {
        "colab": {
          "base_uri": "https://localhost:8080/",
          "height": 165
        },
        "id": "McqrjRK3Vz9g",
        "outputId": "445cc918-937c-4849-8d0b-5c886ed817c6"
      },
      "execution_count": 8,
      "outputs": [
        {
          "output_type": "error",
          "ename": "TypeError",
          "evalue": "ignored",
          "traceback": [
            "\u001b[0;31m---------------------------------------------------------------------------\u001b[0m",
            "\u001b[0;31mTypeError\u001b[0m                                 Traceback (most recent call last)",
            "\u001b[0;32m<ipython-input-8-d96ff2be7c50>\u001b[0m in \u001b[0;36m<module>\u001b[0;34m\u001b[0m\n\u001b[0;32m----> 1\u001b[0;31m \u001b[0mgohan\u001b[0m\u001b[0;34m=\u001b[0m\u001b[0mHibrido\u001b[0m\u001b[0;34m(\u001b[0m\u001b[0;34m\"Gohan\"\u001b[0m\u001b[0;34m,\u001b[0m\u001b[0;34m\"Negro\"\u001b[0m\u001b[0;34m,\u001b[0m\u001b[0;34m\"Aguamarina\"\u001b[0m\u001b[0;34m)\u001b[0m\u001b[0;34m\u001b[0m\u001b[0;34m\u001b[0m\u001b[0m\n\u001b[0m",
            "\u001b[0;31mTypeError\u001b[0m: Hibrido() takes no arguments"
          ]
        }
      ]
    }
  ]
}