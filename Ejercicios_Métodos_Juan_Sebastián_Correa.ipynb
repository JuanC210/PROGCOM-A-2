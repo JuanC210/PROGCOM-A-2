{
  "nbformat": 4,
  "nbformat_minor": 0,
  "metadata": {
    "colab": {
      "provenance": []
    },
    "kernelspec": {
      "name": "python3",
      "display_name": "Python 3"
    },
    "language_info": {
      "name": "python"
    }
  },
  "cells": [
    {
      "cell_type": "markdown",
      "source": [
        "#**HOLA**"
      ],
      "metadata": {
        "id": "Xyo7z9yrlNho"
      }
    },
    {
      "cell_type": "markdown",
      "source": [
        "1.\n"
      ],
      "metadata": {
        "id": "8r0QyUcRpW2L"
      }
    },
    {
      "cell_type": "code",
      "execution_count": 1,
      "metadata": {
        "id": "64o7KmTqh_x_"
      },
      "outputs": [],
      "source": [
        "def npc(a,b):\n",
        "  if a>b:\n",
        "    print(a,\"es el mayor\")\n",
        "  else:\n",
        "    print(b,\" es el mayor\")"
      ]
    },
    {
      "cell_type": "code",
      "source": [
        "print(npc(4,5))"
      ],
      "metadata": {
        "colab": {
          "base_uri": "https://localhost:8080/"
        },
        "id": "Txve8cwPnYrc",
        "outputId": "2eda740a-e8f8-4cd7-cc1a-c9d0e805d5ef"
      },
      "execution_count": 2,
      "outputs": [
        {
          "output_type": "stream",
          "name": "stdout",
          "text": [
            "5  es el mayor\n",
            "None\n"
          ]
        }
      ]
    },
    {
      "cell_type": "markdown",
      "source": [
        "2."
      ],
      "metadata": {
        "id": "ToixuyyJqMWs"
      }
    },
    {
      "cell_type": "code",
      "source": [
        "def mayor(x,y,z):\n",
        " npc(x,npc(y,z))"
      ],
      "metadata": {
        "id": "gPzMrlJnnuNr"
      },
      "execution_count": 3,
      "outputs": []
    },
    {
      "cell_type": "code",
      "source": [
        "mayor(5,6,7)"
      ],
      "metadata": {
        "colab": {
          "base_uri": "https://localhost:8080/",
          "height": 328
        },
        "id": "FTYDhKLipYgp",
        "outputId": "3f5ba40a-e9ae-4e93-9df4-ec0d56ea5759"
      },
      "execution_count": 4,
      "outputs": [
        {
          "output_type": "stream",
          "name": "stdout",
          "text": [
            "7  es el mayor\n"
          ]
        },
        {
          "output_type": "error",
          "ename": "TypeError",
          "evalue": "ignored",
          "traceback": [
            "\u001b[0;31m---------------------------------------------------------------------------\u001b[0m",
            "\u001b[0;31mTypeError\u001b[0m                                 Traceback (most recent call last)",
            "\u001b[0;32m<ipython-input-4-7433170f9711>\u001b[0m in \u001b[0;36m<module>\u001b[0;34m\u001b[0m\n\u001b[0;32m----> 1\u001b[0;31m \u001b[0mmayor\u001b[0m\u001b[0;34m(\u001b[0m\u001b[0;36m5\u001b[0m\u001b[0;34m,\u001b[0m\u001b[0;36m6\u001b[0m\u001b[0;34m,\u001b[0m\u001b[0;36m7\u001b[0m\u001b[0;34m)\u001b[0m\u001b[0;34m\u001b[0m\u001b[0;34m\u001b[0m\u001b[0m\n\u001b[0m",
            "\u001b[0;32m<ipython-input-3-15404739fa17>\u001b[0m in \u001b[0;36mmayor\u001b[0;34m(x, y, z)\u001b[0m\n\u001b[1;32m      1\u001b[0m \u001b[0;32mdef\u001b[0m \u001b[0mmayor\u001b[0m\u001b[0;34m(\u001b[0m\u001b[0mx\u001b[0m\u001b[0;34m,\u001b[0m\u001b[0my\u001b[0m\u001b[0;34m,\u001b[0m\u001b[0mz\u001b[0m\u001b[0;34m)\u001b[0m\u001b[0;34m:\u001b[0m\u001b[0;34m\u001b[0m\u001b[0;34m\u001b[0m\u001b[0m\n\u001b[0;32m----> 2\u001b[0;31m  \u001b[0mnpc\u001b[0m\u001b[0;34m(\u001b[0m\u001b[0mx\u001b[0m\u001b[0;34m,\u001b[0m\u001b[0mnpc\u001b[0m\u001b[0;34m(\u001b[0m\u001b[0my\u001b[0m\u001b[0;34m,\u001b[0m\u001b[0mz\u001b[0m\u001b[0;34m)\u001b[0m\u001b[0;34m)\u001b[0m\u001b[0;34m\u001b[0m\u001b[0;34m\u001b[0m\u001b[0m\n\u001b[0m",
            "\u001b[0;32m<ipython-input-1-bf6d0ccf3217>\u001b[0m in \u001b[0;36mnpc\u001b[0;34m(a, b)\u001b[0m\n\u001b[1;32m      1\u001b[0m \u001b[0;32mdef\u001b[0m \u001b[0mnpc\u001b[0m\u001b[0;34m(\u001b[0m\u001b[0ma\u001b[0m\u001b[0;34m,\u001b[0m\u001b[0mb\u001b[0m\u001b[0;34m)\u001b[0m\u001b[0;34m:\u001b[0m\u001b[0;34m\u001b[0m\u001b[0;34m\u001b[0m\u001b[0m\n\u001b[0;32m----> 2\u001b[0;31m   \u001b[0;32mif\u001b[0m \u001b[0ma\u001b[0m\u001b[0;34m>\u001b[0m\u001b[0mb\u001b[0m\u001b[0;34m:\u001b[0m\u001b[0;34m\u001b[0m\u001b[0;34m\u001b[0m\u001b[0m\n\u001b[0m\u001b[1;32m      3\u001b[0m     \u001b[0mprint\u001b[0m\u001b[0;34m(\u001b[0m\u001b[0ma\u001b[0m\u001b[0;34m,\u001b[0m\u001b[0;34m\"es el mayor\"\u001b[0m\u001b[0;34m)\u001b[0m\u001b[0;34m\u001b[0m\u001b[0;34m\u001b[0m\u001b[0m\n\u001b[1;32m      4\u001b[0m   \u001b[0;32melse\u001b[0m\u001b[0;34m:\u001b[0m\u001b[0;34m\u001b[0m\u001b[0;34m\u001b[0m\u001b[0m\n\u001b[1;32m      5\u001b[0m     \u001b[0mprint\u001b[0m\u001b[0;34m(\u001b[0m\u001b[0mb\u001b[0m\u001b[0;34m,\u001b[0m\u001b[0;34m\" es el mayor\"\u001b[0m\u001b[0;34m)\u001b[0m\u001b[0;34m\u001b[0m\u001b[0;34m\u001b[0m\u001b[0m\n",
            "\u001b[0;31mTypeError\u001b[0m: '>' not supported between instances of 'int' and 'NoneType'"
          ]
        }
      ]
    },
    {
      "cell_type": "markdown",
      "source": [
        "3. \n",
        "\n"
      ],
      "metadata": {
        "id": "HAHT-2hkpZdb"
      }
    },
    {
      "cell_type": "code",
      "source": [
        "def uma(lista):\n",
        "   \n",
        "    print( lista[0]+lista[1]+lista[2])"
      ],
      "metadata": {
        "id": "hdmf2grEq4eF"
      },
      "execution_count": 71,
      "outputs": []
    },
    {
      "cell_type": "code",
      "source": [
        "uma(lista=[7,3,9,])"
      ],
      "metadata": {
        "colab": {
          "base_uri": "https://localhost:8080/"
        },
        "id": "TC3QGIsYuOy-",
        "outputId": "df466a59-d829-4eec-981b-41df7dd11ac7"
      },
      "execution_count": 146,
      "outputs": [
        {
          "output_type": "stream",
          "name": "stdout",
          "text": [
            "19\n"
          ]
        }
      ]
    },
    {
      "cell_type": "markdown",
      "source": [
        "4."
      ],
      "metadata": {
        "id": "86M2yf8cq8E9"
      }
    },
    {
      "cell_type": "code",
      "source": [
        "def ma(lista):\n",
        "   \n",
        "    print( lista[0]+lista[1]+lista[2]+lista[3])\n"
      ],
      "metadata": {
        "id": "eKzGE3oEq9sN"
      },
      "execution_count": 74,
      "outputs": []
    },
    {
      "cell_type": "code",
      "source": [
        "ma(lista=[9,3,4,5])"
      ],
      "metadata": {
        "colab": {
          "base_uri": "https://localhost:8080/"
        },
        "id": "en8WrMjqvIzg",
        "outputId": "ccb45b63-93d0-4499-82d8-63b80e74f0c7"
      },
      "execution_count": 53,
      "outputs": [
        {
          "output_type": "stream",
          "name": "stdout",
          "text": [
            "21\n"
          ]
        }
      ]
    },
    {
      "cell_type": "markdown",
      "source": [
        "5."
      ],
      "metadata": {
        "id": "XMiMyCtcvYqO"
      }
    },
    {
      "cell_type": "code",
      "source": [
        "def ma(lista):\n",
        "  Sum1= 0\n",
        "  for i in range(len(lista)):\n",
        "    Sum1 = Sum1 + lista[i]\n",
        "  print(Sum1)"
      ],
      "metadata": {
        "id": "xCkKm5O7vZ5W"
      },
      "execution_count": 206,
      "outputs": []
    },
    {
      "cell_type": "code",
      "source": [
        "ma(lista=[5,3,8])"
      ],
      "metadata": {
        "colab": {
          "base_uri": "https://localhost:8080/"
        },
        "id": "fgJz_kDr6ARo",
        "outputId": "f6965b49-78e5-4cb4-e9f1-71d4ac0e9e68"
      },
      "execution_count": 208,
      "outputs": [
        {
          "output_type": "stream",
          "name": "stdout",
          "text": [
            "16\n"
          ]
        }
      ]
    },
    {
      "cell_type": "markdown",
      "source": [
        "6."
      ],
      "metadata": {
        "id": "2cqP4nzKxTDs"
      }
    },
    {
      "cell_type": "code",
      "source": [
        "def mu(lista):\n",
        "   \n",
        "  print( lista[0]*lista[1]*lista[2])"
      ],
      "metadata": {
        "id": "z2EFa-eFxT9c"
      },
      "execution_count": 69,
      "outputs": []
    },
    {
      "cell_type": "code",
      "source": [
        "mu(lista=[8,3,4])"
      ],
      "metadata": {
        "colab": {
          "base_uri": "https://localhost:8080/"
        },
        "id": "FNmL2g6fxfWl",
        "outputId": "df569898-d589-4092-91c0-21bb4fe403f9"
      },
      "execution_count": 70,
      "outputs": [
        {
          "output_type": "stream",
          "name": "stdout",
          "text": [
            "96\n"
          ]
        }
      ]
    },
    {
      "cell_type": "markdown",
      "source": [
        "7."
      ],
      "metadata": {
        "id": "Yo3BziBGx5EQ"
      }
    },
    {
      "cell_type": "code",
      "source": [
        "def mu(lista):\n",
        "  print(lista[0]*lista[1]*lista[2]*lista[3])"
      ],
      "metadata": {
        "id": "1UQ0WCSZx7kP"
      },
      "execution_count": 109,
      "outputs": []
    },
    {
      "cell_type": "code",
      "source": [
        "mu(lista=[2,1,4,5])"
      ],
      "metadata": {
        "colab": {
          "base_uri": "https://localhost:8080/"
        },
        "id": "alGZ20ZgyCqw",
        "outputId": "9de13094-6f7a-47a4-8309-3f56e25f9e8f"
      },
      "execution_count": 110,
      "outputs": [
        {
          "output_type": "stream",
          "name": "stdout",
          "text": [
            "40\n"
          ]
        }
      ]
    },
    {
      "cell_type": "markdown",
      "source": [
        "8."
      ],
      "metadata": {
        "id": "vPOaGK9LyfOe"
      }
    },
    {
      "cell_type": "code",
      "source": [
        "def ma(lista):\n",
        "  Sum1= 0\n",
        "  for i in range(len(lista)):\n",
        "    Sum1 = Sum1 * lista[i]\n",
        "  print(Sum1)"
      ],
      "metadata": {
        "id": "YmuNpoFu982W"
      },
      "execution_count": 209,
      "outputs": []
    },
    {
      "cell_type": "code",
      "source": [
        "mu(lista=[8,3])"
      ],
      "metadata": {
        "colab": {
          "base_uri": "https://localhost:8080/"
        },
        "id": "hYPHC4SJ_uFf",
        "outputId": "626c73e5-9ae8-45b6-abe4-6a01ddeb6df0"
      },
      "execution_count": 210,
      "outputs": [
        {
          "output_type": "stream",
          "name": "stdout",
          "text": [
            "24\n"
          ]
        }
      ]
    },
    {
      "cell_type": "markdown",
      "source": [
        "9."
      ],
      "metadata": {
        "id": "G_N3HDEH1PKP"
      }
    },
    {
      "cell_type": "code",
      "source": [
        "def inveritir(x): \n",
        " In=len(x)\n",
        " In=x[In::-1]\n",
        " print(In)"
      ],
      "metadata": {
        "id": "julgtiTWyeY2"
      },
      "execution_count": 107,
      "outputs": []
    },
    {
      "cell_type": "code",
      "source": [
        "inveritir(\"Hola Mundo\")"
      ],
      "metadata": {
        "colab": {
          "base_uri": "https://localhost:8080/"
        },
        "id": "Fb2EZ1AI2ghS",
        "outputId": "af450311-9e94-4b51-e5ab-871301b1543e"
      },
      "execution_count": 108,
      "outputs": [
        {
          "output_type": "stream",
          "name": "stdout",
          "text": [
            "odnuM aloH\n"
          ]
        }
      ]
    },
    {
      "cell_type": "markdown",
      "source": [
        "10."
      ],
      "metadata": {
        "id": "dQNiYx_l1Qbg"
      }
    },
    {
      "cell_type": "code",
      "source": [
        "def factoria(Z):\n",
        "  Multi=1\n",
        "  for Número in range (1,Z+1):\n",
        "    Multi=Multi*Número\n",
        "  print(Multi)\n",
        "\n",
        "    \n"
      ],
      "metadata": {
        "id": "7oVftHd708ih"
      },
      "execution_count": 134,
      "outputs": []
    },
    {
      "cell_type": "code",
      "source": [
        "factoria(5)"
      ],
      "metadata": {
        "colab": {
          "base_uri": "https://localhost:8080/"
        },
        "id": "MG-b3Ohh8zr5",
        "outputId": "f27a9272-06db-4ba5-b42f-1206f7440a95"
      },
      "execution_count": 135,
      "outputs": [
        {
          "output_type": "stream",
          "name": "stdout",
          "text": [
            "120\n"
          ]
        }
      ]
    }
  ]
}