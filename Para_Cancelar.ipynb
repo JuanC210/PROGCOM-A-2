{
  "nbformat": 4,
  "nbformat_minor": 0,
  "metadata": {
    "colab": {
      "provenance": []
    },
    "kernelspec": {
      "name": "python3",
      "display_name": "Python 3"
    },
    "language_info": {
      "name": "python"
    }
  },
  "cells": [
    {
      "cell_type": "markdown",
      "source": [
        "##Errores y fallas de entorno en Colab\n",
        "1.Es imposible ejecutar Colab sin conexión\n",
        "\n",
        "2.Colab no puede ejecutar entornos para minar criptomonedas\n",
        "\n",
        "3.Usar un escritorio remoto\n",
        "\n",
        "4.Usar varias cuentas para eludir las restricciones de acceso\n",
        "\n",
        "5.En caso de algún fallo con la red o apagón, la información en el sistema se perdio \n",
        "\n",
        "6.Colab falla al ejecutar algunos entornos de programación\n",
        "\n",
        "7.En varias ocasiones hay que reiniciar el entorno de ejecución para solucionar problemas al  correr el código \n",
        "\n",
        "8.Muchas veces al trabajar en el mismo cuaderno con más de un usuario la información puede llegar a aparecer solo en el drive de un usuario o incluso a perderse del drive en general\n",
        "\n",
        "9.Descargar torrents o compartir archivos de punto a punto\n",
        "\n",
        "10.Colab no puede ejecutar entornos para craquear contraseñas\n",
        "\n",
        "11.Puesto que no está en su computacion interactiva Colab no puede alojar archivos, servir contenido multimedia u ofrecer otros servicios web\n",
        "\n",
        "12.Colab posee una cuota de almacenamiento limitada\n",
        "\n",
        "13.Colab tiene limitaciones en el número máximo de operaciones por usuario y por archivo, y cuotas de ancho de banda\n",
        "\n",
        "14.Colab no puede ejecutar ataques de denegación de servicios \n",
        "\n",
        "15.Las operaciones de Google Drive pueden agotar el tiempo de espera cuando el número de archivos o subcarpetas de una carpeta se vuelve demasiado grande, sin superar el límite necesariamente\n",
        "\n",
        "16.Colab no sirve para enseñar encapsulamiento porque no lo corre\n",
        "\n",
        "17.Necesario tener una GPU de google para programar\n",
        "\n",
        "18.Colab para poder trabajar se necesita tener flexibilidad para ajustar dinámicamente los límites de uso y la disponibilidad de hardware.\n",
        "\n",
        "19.Para Colab no es posible conectarse a proxies remotos\n",
        "\n",
        "20.Contenido compartido puedes ser modificado al mismo tiempo, es decir, alguno podría alterar el programa mientras están todos allí.\n"
      ],
      "metadata": {
        "id": "aojEaH57LzBH"
      }
    },
    {
      "cell_type": "code",
      "execution_count": null,
      "metadata": {
        "id": "id-_UOsZLgwX"
      },
      "outputs": [],
      "source": []
    }
  ]
}