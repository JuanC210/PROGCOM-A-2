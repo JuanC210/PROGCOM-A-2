{
  "nbformat": 4,
  "nbformat_minor": 0,
  "metadata": {
    "colab": {
      "provenance": []
    },
    "kernelspec": {
      "name": "python3",
      "display_name": "Python 3"
    },
    "language_info": {
      "name": "python"
    }
  },
  "cells": [
    {
      "cell_type": "markdown",
      "source": [
        "#LAMBDA o Funciones Anónimas\n",
        "* Funciones pequeñas, de fácil acceso y rpidas\n",
        "* Puede contenr **varios** argumenbtos, pero sólo una expresión"
      ],
      "metadata": {
        "id": "txjpuo5m-BDs"
      }
    },
    {
      "cell_type": "code",
      "execution_count": 1,
      "metadata": {
        "colab": {
          "base_uri": "https://localhost:8080/"
        },
        "id": "vQ6fnKna9AtX",
        "outputId": "b3954c1c-0958-4799-aa52-5fac8a682732"
      },
      "outputs": [
        {
          "output_type": "execute_result",
          "data": {
            "text/plain": [
              "[9, 49, 36, 81]"
            ]
          },
          "metadata": {},
          "execution_count": 1
        }
      ],
      "source": [
        "lista=[3,7,6,9]\n",
        "\n",
        "lista2=[n**2 for n in lista]\n",
        "lista2 "
      ]
    },
    {
      "cell_type": "code",
      "source": [
        "def elevar(*entrada): #se coloca * para indicar que va a ingresar una lista\n",
        " for i in entrada:\n",
        "   print(i**2)"
      ],
      "metadata": {
        "id": "xs08b47u-XhY"
      },
      "execution_count": 3,
      "outputs": []
    },
    {
      "cell_type": "code",
      "source": [
        "lambda1=lambda x:x**2\n",
        "lambda1(2)"
      ],
      "metadata": {
        "colab": {
          "base_uri": "https://localhost:8080/"
        },
        "id": "tyNLxDmiAOk7",
        "outputId": "d25ac67d-c1c4-4478-dbd5-4c8ab9c14521"
      },
      "execution_count": 4,
      "outputs": [
        {
          "output_type": "execute_result",
          "data": {
            "text/plain": [
              "4"
            ]
          },
          "metadata": {},
          "execution_count": 4
        }
      ]
    },
    {
      "cell_type": "code",
      "source": [
        "lambda2=lambda x,y:x**y\n",
        "lambda2(2,4)"
      ],
      "metadata": {
        "colab": {
          "base_uri": "https://localhost:8080/"
        },
        "id": "4hUMo7OVAmF0",
        "outputId": "5850710b-039b-47b0-fc84-be560f7b8dec"
      },
      "execution_count": 5,
      "outputs": [
        {
          "output_type": "execute_result",
          "data": {
            "text/plain": [
              "16"
            ]
          },
          "metadata": {},
          "execution_count": 5
        }
      ]
    },
    {
      "cell_type": "code",
      "source": [
        "lambda3=lambda num:True if num%2>=0 else False\n",
        "lambda3(4)"
      ],
      "metadata": {
        "colab": {
          "base_uri": "https://localhost:8080/"
        },
        "id": "qYNE4zYgBgZ5",
        "outputId": "803bed4c-daa5-44cc-fef0-22917637f88f"
      },
      "execution_count": 6,
      "outputs": [
        {
          "output_type": "execute_result",
          "data": {
            "text/plain": [
              "True"
            ]
          },
          "metadata": {},
          "execution_count": 6
        }
      ]
    },
    {
      "cell_type": "code",
      "source": [
        "def elevar(*n):\n",
        "  for i in range(len(n)):\n",
        "    print(int(n[i])**2)\n",
        "elevar(*lista)"
      ],
      "metadata": {
        "colab": {
          "base_uri": "https://localhost:8080/"
        },
        "id": "XAIxTRAkCKO6",
        "outputId": "040a9170-66db-4108-d948-6fbc91477af3"
      },
      "execution_count": 7,
      "outputs": [
        {
          "output_type": "stream",
          "name": "stdout",
          "text": [
            "9\n",
            "49\n",
            "36\n",
            "81\n"
          ]
        }
      ]
    },
    {
      "cell_type": "code",
      "source": [
        "letras={\"A\":3,\"B\":6,\"C\":9}\n",
        "sorted(letras,key=lambda x:letras[x]%3)"
      ],
      "metadata": {
        "colab": {
          "base_uri": "https://localhost:8080/"
        },
        "id": "Wn8IFjCKC40J",
        "outputId": "62d48d49-dd00-451b-ad97-6997b97d1431"
      },
      "execution_count": 8,
      "outputs": [
        {
          "output_type": "execute_result",
          "data": {
            "text/plain": [
              "['A', 'B', 'C']"
            ]
          },
          "metadata": {},
          "execution_count": 8
        }
      ]
    },
    {
      "cell_type": "code",
      "source": [
        "import random\n",
        "mi_lista=[1,2,3,4,5,6,7,8,9,10]\n",
        "filtrado=[n for n in mi_lista if n%2!=0]\n",
        "filtrado"
      ],
      "metadata": {
        "colab": {
          "base_uri": "https://localhost:8080/"
        },
        "id": "HNB4SvhFEZa-",
        "outputId": "59484afe-c84c-4a9e-e9d8-f69910cee116"
      },
      "execution_count": 9,
      "outputs": [
        {
          "output_type": "execute_result",
          "data": {
            "text/plain": [
              "[1, 3, 5, 7, 9]"
            ]
          },
          "metadata": {},
          "execution_count": 9
        }
      ]
    },
    {
      "cell_type": "code",
      "source": [
        "filtrado2=[key=lambda x:]"
      ],
      "metadata": {
        "id": "NWxZOF56GDKF"
      },
      "execution_count": null,
      "outputs": []
    },
    {
      "cell_type": "code",
      "source": [
        "mi_lista2=[n for n   in range (1,11)]\n",
        "mi_lista2"
      ],
      "metadata": {
        "colab": {
          "base_uri": "https://localhost:8080/"
        },
        "id": "xWOx72rzF0v2",
        "outputId": "5632bf43-3b2b-478c-efa5-6912d59cc553"
      },
      "execution_count": 11,
      "outputs": [
        {
          "output_type": "execute_result",
          "data": {
            "text/plain": [
              "[1, 2, 3, 4, 5, 6, 7, 8, 9, 10]"
            ]
          },
          "metadata": {},
          "execution_count": 11
        }
      ]
    },
    {
      "cell_type": "code",
      "source": [
        "mi_lista3=[random.randrange(1,11) for i in range (10)]\n",
        "mi_lista3"
      ],
      "metadata": {
        "colab": {
          "base_uri": "https://localhost:8080/"
        },
        "id": "j8aNCBy_FX0N",
        "outputId": "2c7aaaec-023b-4323-d6f9-a99154ec1c2d"
      },
      "execution_count": 12,
      "outputs": [
        {
          "output_type": "execute_result",
          "data": {
            "text/plain": [
              "[4, 9, 7, 9, 10, 5, 3, 5, 4, 9]"
            ]
          },
          "metadata": {},
          "execution_count": 12
        }
      ]
    },
    {
      "cell_type": "markdown",
      "source": [
        "##Funciones de orden superior\n",
        "1. MAP\n",
        "La función se aplica a cada elemento de la ista\n",
        "\n",
        "map(una_funcion,una_lista)\n"
      ],
      "metadata": {
        "id": "WkGRvnxaGfgN"
      }
    },
    {
      "cell_type": "code",
      "source": [
        "cuadrados=[]#Creando una ista vacía\n",
        "for i in lista:\n",
        "  cuadrados.append(i**2)\n",
        "print(cuadrados)"
      ],
      "metadata": {
        "colab": {
          "base_uri": "https://localhost:8080/"
        },
        "id": "GtmX4FeCHLF9",
        "outputId": "425c52bf-faf3-44c7-9145-a39dbd222ad5"
      },
      "execution_count": 13,
      "outputs": [
        {
          "output_type": "stream",
          "name": "stdout",
          "text": [
            "[9, 49, 36, 81]\n"
          ]
        }
      ]
    },
    {
      "cell_type": "code",
      "source": [
        "cuadrado2=[x**2 for x in lista]#compresión\n",
        "cuadrado2"
      ],
      "metadata": {
        "colab": {
          "base_uri": "https://localhost:8080/"
        },
        "id": "7cQ4UCDQIglr",
        "outputId": "9408e567-6ab2-432f-e122-e67a746ffaef"
      },
      "execution_count": 14,
      "outputs": [
        {
          "output_type": "execute_result",
          "data": {
            "text/plain": [
              "[9, 49, 36, 81]"
            ]
          },
          "metadata": {},
          "execution_count": 14
        }
      ]
    },
    {
      "cell_type": "code",
      "source": [
        "cuadrado3=list(map(lambda x:x**2,lista))\n",
        "cuadrado3"
      ],
      "metadata": {
        "colab": {
          "base_uri": "https://localhost:8080/"
        },
        "id": "WRN8z-HiIq5r",
        "outputId": "994f3114-c0ba-4780-83b5-d9f8fa0f5b72"
      },
      "execution_count": 15,
      "outputs": [
        {
          "output_type": "execute_result",
          "data": {
            "text/plain": [
              "[9, 49, 36, 81]"
            ]
          },
          "metadata": {},
          "execution_count": 15
        }
      ]
    },
    {
      "cell_type": "markdown",
      "source": [
        "##2. FITER\n",
        "Filtrar.Si se cumple la condición devuelve un True\n",
        "Se define: filter(una_funcion,una_lista)\n"
      ],
      "metadata": {
        "id": "Za5brP-PKlvU"
      }
    },
    {
      "cell_type": "code",
      "source": [
        "valores=[num for num in range(1,10)]\n",
        "pares=[]\n",
        "for valor in valores:\n",
        "   if valor%2==0:\n",
        "     pares.append(valor)\n",
        "\n",
        "print(pares)"
      ],
      "metadata": {
        "colab": {
          "base_uri": "https://localhost:8080/"
        },
        "id": "VeCD7JaHK0jN",
        "outputId": "bf5f3561-11b2-4e88-c269-855ec3c5e269"
      },
      "execution_count": 16,
      "outputs": [
        {
          "output_type": "stream",
          "name": "stdout",
          "text": [
            "[2, 4, 6, 8]\n"
          ]
        }
      ]
    },
    {
      "cell_type": "code",
      "source": [
        "valor2=[lol for lol in valores if lol%2==0]\n",
        "valor2"
      ],
      "metadata": {
        "colab": {
          "base_uri": "https://localhost:8080/"
        },
        "id": "-dfusM7_LOHU",
        "outputId": "a18fcbdc-2fb5-4310-e2df-4816f3a3ada2"
      },
      "execution_count": 17,
      "outputs": [
        {
          "output_type": "execute_result",
          "data": {
            "text/plain": [
              "[2, 4, 6, 8]"
            ]
          },
          "metadata": {},
          "execution_count": 17
        }
      ]
    },
    {
      "cell_type": "code",
      "source": [
        "valor3=list(filter(lambda julito: julito%2==0,valores))\n",
        "valor3"
      ],
      "metadata": {
        "colab": {
          "base_uri": "https://localhost:8080/"
        },
        "id": "wIX_TbnSLggm",
        "outputId": "d7a775be-50aa-428c-c86c-5e1994b77db7"
      },
      "execution_count": 18,
      "outputs": [
        {
          "output_type": "execute_result",
          "data": {
            "text/plain": [
              "[2, 4, 6, 8]"
            ]
          },
          "metadata": {},
          "execution_count": 18
        }
      ]
    },
    {
      "cell_type": "code",
      "source": [],
      "metadata": {
        "id": "S4djw9VJLs28"
      },
      "execution_count": 18,
      "outputs": []
    },
    {
      "cell_type": "markdown",
      "source": [
        "##3. REDUCE:\n",
        "Es un acumulador\n",
        "**Para usar REDUCE se dece importar el módulo functools"
      ],
      "metadata": {
        "id": "pxSidfEgL7Oj"
      }
    },
    {
      "cell_type": "code",
      "source": [
        "from functools import reduce\n",
        "def suma(lista):\n",
        "  suma=0\n",
        "  for i in lista:\n",
        "    suma +=i \n",
        "  return suma\n",
        "\n",
        "print(suma(valores))"
      ],
      "metadata": {
        "colab": {
          "base_uri": "https://localhost:8080/"
        },
        "id": "vvEOufHPMO5y",
        "outputId": "8f65c2c1-fc08-465e-88a5-401a757be600"
      },
      "execution_count": 20,
      "outputs": [
        {
          "output_type": "stream",
          "name": "stdout",
          "text": [
            "45\n"
          ]
        }
      ]
    },
    {
      "cell_type": "code",
      "source": [
        "suma1=reduce(lambda x,y:x+y,valores)\n",
        "suma1"
      ],
      "metadata": {
        "colab": {
          "base_uri": "https://localhost:8080/"
        },
        "id": "juXK-BQuOTDM",
        "outputId": "3545072b-81cb-48d8-e17c-48a57684b753"
      },
      "execution_count": 21,
      "outputs": [
        {
          "output_type": "execute_result",
          "data": {
            "text/plain": [
              "45"
            ]
          },
          "metadata": {},
          "execution_count": 21
        }
      ]
    }
  ]
}