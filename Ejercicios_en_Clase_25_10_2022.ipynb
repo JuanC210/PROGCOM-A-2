{
  "nbformat": 4,
  "nbformat_minor": 0,
  "metadata": {
    "colab": {
      "provenance": []
    },
    "kernelspec": {
      "name": "python3",
      "display_name": "Python 3"
    },
    "language_info": {
      "name": "python"
    }
  },
  "cells": [
    {
      "cell_type": "markdown",
      "source": [
        "#Suma\n"
      ],
      "metadata": {
        "id": "aiL7av-14Cj3"
      }
    },
    {
      "cell_type": "code",
      "execution_count": 60,
      "metadata": {
        "id": "u8oKZKL6tFXx"
      },
      "outputs": [],
      "source": [
        "class Fraccion:\n",
        "  num=0\n",
        "  den=1\n",
        "  def __init__(self,num=0,den=1):\n",
        "    self.num=num\n",
        "    self.den=den\n",
        "  def imprimir(self):\n",
        "    return f\"El numerador es:{self.num} y el denominador es:{self.den} \"\n",
        "\n",
        "  def sumita(self,x):\n",
        "    num=(self.num*x.den)+(self.den*x.num)\n",
        "    den=self.den*x.den\n",
        "\n",
        "    r=Fraccion(num,den)\n",
        "    print(f\"La suma entre {self.num}/{self.den} y {x.num}/{x.den} es {r.num}/{r.den}\")\n",
        "    return r"
      ]
    },
    {
      "cell_type": "code",
      "source": [
        "a=Fraccion(8,6)\n",
        "b=Fraccion(5,9)"
      ],
      "metadata": {
        "id": "EPqzAgN1v-US"
      },
      "execution_count": 61,
      "outputs": []
    },
    {
      "cell_type": "code",
      "source": [
        "print(a)"
      ],
      "metadata": {
        "colab": {
          "base_uri": "https://localhost:8080/"
        },
        "id": "L45nW8jMxtKr",
        "outputId": "a4eb2389-e103-4e3c-907c-89c23f36bedb"
      },
      "execution_count": 62,
      "outputs": [
        {
          "output_type": "stream",
          "name": "stdout",
          "text": [
            "<__main__.Fraccion object at 0x7f4f02230f10>\n"
          ]
        }
      ]
    },
    {
      "cell_type": "code",
      "source": [
        "a.__dict__"
      ],
      "metadata": {
        "colab": {
          "base_uri": "https://localhost:8080/"
        },
        "id": "gH6kq_NmwFGI",
        "outputId": "01282c8f-8507-41f0-a57e-b8442e1c6ee3"
      },
      "execution_count": 65,
      "outputs": [
        {
          "output_type": "execute_result",
          "data": {
            "text/plain": [
              "{'num': 8, 'den': 6}"
            ]
          },
          "metadata": {},
          "execution_count": 65
        }
      ]
    },
    {
      "cell_type": "code",
      "source": [
        "a.imprimir()"
      ],
      "metadata": {
        "colab": {
          "base_uri": "https://localhost:8080/",
          "height": 36
        },
        "id": "OX95rzSLx0qj",
        "outputId": "16418e09-5cee-46c6-8071-2ea43b7a3194"
      },
      "execution_count": 63,
      "outputs": [
        {
          "output_type": "execute_result",
          "data": {
            "text/plain": [
              "'El numerador es:8 y el denominador es:6 '"
            ],
            "application/vnd.google.colaboratory.intrinsic+json": {
              "type": "string"
            }
          },
          "metadata": {},
          "execution_count": 63
        }
      ]
    },
    {
      "cell_type": "code",
      "source": [
        "c=b.sumita(a)\n",
        "c.imprimir()"
      ],
      "metadata": {
        "colab": {
          "base_uri": "https://localhost:8080/",
          "height": 55
        },
        "id": "52YZSxuj1uC0",
        "outputId": "e215c8a8-5a4b-4ed8-fe02-726cbd08b7a3"
      },
      "execution_count": 64,
      "outputs": [
        {
          "output_type": "stream",
          "name": "stdout",
          "text": [
            "La suma entre 5/9 y 8/6 es 102/54\n"
          ]
        },
        {
          "output_type": "execute_result",
          "data": {
            "text/plain": [
              "'El numerador es:102 y el denominador es:54 '"
            ],
            "application/vnd.google.colaboratory.intrinsic+json": {
              "type": "string"
            }
          },
          "metadata": {},
          "execution_count": 64
        }
      ]
    },
    {
      "cell_type": "markdown",
      "source": [
        "#Resta"
      ],
      "metadata": {
        "id": "1MyvhGFQ4GWk"
      }
    },
    {
      "cell_type": "code",
      "source": [
        "class Fraccion:\n",
        "  num=0\n",
        "  den=1\n",
        "  def __init__(self,num=0,den=1):\n",
        "    self.num=num\n",
        "    self.den=den\n",
        "  def imprimir(self):\n",
        "    return f\"El numerador es:{self.num} y el denominador es:{self.den} \"\n",
        "\n",
        "  def restita(self,x):\n",
        "    num=(self.num*x.den)-(self.den*x.num)\n",
        "    den=self.den*x.den\n",
        "\n",
        "    r=Fraccion(num,den)\n",
        "    print(f\"La resta entre {self.num}/{self.den} y {x.num}/{x.den} es {r.num}/{r.den}\")\n",
        "    return r"
      ],
      "metadata": {
        "id": "x-bRana64Rpz"
      },
      "execution_count": 73,
      "outputs": []
    },
    {
      "cell_type": "code",
      "source": [
        "a=Fraccion(8,6)\n",
        "b=Fraccion(5,9)"
      ],
      "metadata": {
        "id": "ScDY8TRo4Y5T"
      },
      "execution_count": 74,
      "outputs": []
    },
    {
      "cell_type": "code",
      "source": [
        "print(a)"
      ],
      "metadata": {
        "colab": {
          "base_uri": "https://localhost:8080/"
        },
        "id": "tqaBjClU4am8",
        "outputId": "2b16898b-9a5c-4e97-9003-c4cf2e8f4a38"
      },
      "execution_count": 75,
      "outputs": [
        {
          "output_type": "stream",
          "name": "stdout",
          "text": [
            "<__main__.Fraccion object at 0x7f4f02213b10>\n"
          ]
        }
      ]
    },
    {
      "cell_type": "code",
      "source": [
        "a.__dict__"
      ],
      "metadata": {
        "colab": {
          "base_uri": "https://localhost:8080/"
        },
        "id": "4OC9lPhy4cB7",
        "outputId": "12a2086c-9ba9-4f5c-e199-9a71a09ec79e"
      },
      "execution_count": 76,
      "outputs": [
        {
          "output_type": "execute_result",
          "data": {
            "text/plain": [
              "{'num': 8, 'den': 6}"
            ]
          },
          "metadata": {},
          "execution_count": 76
        }
      ]
    },
    {
      "cell_type": "code",
      "source": [
        "a.imprimir()"
      ],
      "metadata": {
        "colab": {
          "base_uri": "https://localhost:8080/",
          "height": 36
        },
        "id": "f78YyiXE4d-L",
        "outputId": "9088927c-d482-4639-d204-2f1fd30ead57"
      },
      "execution_count": 77,
      "outputs": [
        {
          "output_type": "execute_result",
          "data": {
            "text/plain": [
              "'El numerador es:8 y el denominador es:6 '"
            ],
            "application/vnd.google.colaboratory.intrinsic+json": {
              "type": "string"
            }
          },
          "metadata": {},
          "execution_count": 77
        }
      ]
    },
    {
      "cell_type": "code",
      "source": [
        "d=b.restita(a)\n",
        "d.imprimir()"
      ],
      "metadata": {
        "colab": {
          "base_uri": "https://localhost:8080/",
          "height": 55
        },
        "id": "76rRptkN4fai",
        "outputId": "005612fa-e6b8-4aa0-9c03-17b063446b46"
      },
      "execution_count": 78,
      "outputs": [
        {
          "output_type": "stream",
          "name": "stdout",
          "text": [
            "La resta entre 5/9 y 8/6 es -42/54\n"
          ]
        },
        {
          "output_type": "execute_result",
          "data": {
            "text/plain": [
              "'El numerador es:-42 y el denominador es:54 '"
            ],
            "application/vnd.google.colaboratory.intrinsic+json": {
              "type": "string"
            }
          },
          "metadata": {},
          "execution_count": 78
        }
      ]
    },
    {
      "cell_type": "markdown",
      "source": [
        "#División"
      ],
      "metadata": {
        "id": "-GAJi3LY9ibA"
      }
    },
    {
      "cell_type": "code",
      "source": [
        "class Fraccion:\n",
        "  num=0\n",
        "  den=1\n",
        "  def __init__(self,num=0,den=1):\n",
        "    self.num=num\n",
        "    self.den=den\n",
        "  def imprimir(self):\n",
        "    return f\"El numerador es:{self.num} y el denominador es:{self.den} \"\n",
        "\n",
        "  def divi(self,pi):\n",
        "    if self.den*pi.num !=0:\n",
        "     num=self.num*pi.den\n",
        "     den=self.den*pi.num\n",
        "\n",
        "   \n",
        "\n",
        "     r=Fraccion(num,den)\n",
        "     print(f\"La división entre {self.num}/{self.den} y {pi.num}/{pi.den} es {r.num}/{r.den}\")\n",
        "     return r\n",
        "    else:\n",
        "      print(\"Pailas\")"
      ],
      "metadata": {
        "id": "3k6X6cxr5Cp6"
      },
      "execution_count": 102,
      "outputs": []
    },
    {
      "cell_type": "code",
      "source": [
        "a=Fraccion(8,6)\n",
        "b=Fraccion(5,0)"
      ],
      "metadata": {
        "id": "5agxj5846Tdp"
      },
      "execution_count": 107,
      "outputs": []
    },
    {
      "cell_type": "code",
      "source": [
        "a.imprimir()"
      ],
      "metadata": {
        "colab": {
          "base_uri": "https://localhost:8080/",
          "height": 36
        },
        "id": "EH-PdzAp65aR",
        "outputId": "6f0af444-fc7e-4033-9989-639c03ea4a89"
      },
      "execution_count": 108,
      "outputs": [
        {
          "output_type": "execute_result",
          "data": {
            "text/plain": [
              "'El numerador es:8 y el denominador es:6 '"
            ],
            "application/vnd.google.colaboratory.intrinsic+json": {
              "type": "string"
            }
          },
          "metadata": {},
          "execution_count": 108
        }
      ]
    },
    {
      "cell_type": "code",
      "source": [
        "b.imprimir()"
      ],
      "metadata": {
        "colab": {
          "base_uri": "https://localhost:8080/",
          "height": 36
        },
        "id": "8oGhyEac6W1b",
        "outputId": "74ae7ebe-62b6-4fcd-fc19-21af7885bd29"
      },
      "execution_count": 109,
      "outputs": [
        {
          "output_type": "execute_result",
          "data": {
            "text/plain": [
              "'El numerador es:5 y el denominador es:0 '"
            ],
            "application/vnd.google.colaboratory.intrinsic+json": {
              "type": "string"
            }
          },
          "metadata": {},
          "execution_count": 109
        }
      ]
    },
    {
      "cell_type": "code",
      "source": [
        "e=b.divi(a)"
      ],
      "metadata": {
        "colab": {
          "base_uri": "https://localhost:8080/"
        },
        "id": "N6pGZOF26Gr5",
        "outputId": "a8bae142-946b-4954-8195-9dccdf330e85"
      },
      "execution_count": 110,
      "outputs": [
        {
          "output_type": "stream",
          "name": "stdout",
          "text": [
            "Pailas\n"
          ]
        }
      ]
    },
    {
      "cell_type": "markdown",
      "source": [
        "#Multiplicación"
      ],
      "metadata": {
        "id": "C0qk-2kC-E9Q"
      }
    },
    {
      "cell_type": "code",
      "source": [
        "class Fraccion:\n",
        "  num=0\n",
        "  den=1\n",
        "  def __init__(self,num=0,den=1):\n",
        "    self.num=num\n",
        "    self.den=den\n",
        "  def imprimir(self):\n",
        "    return f\"El numerador es:{self.num} y el denominador es:{self.den} \"\n",
        "\n",
        "  def multi(self,pi):\n",
        "    if self.den*pi.num !=0:\n",
        "     num=self.num*pi.num\n",
        "     den=self.den*pi.den\n",
        "\n",
        "   \n",
        "\n",
        "     r=Fraccion(num,den)\n",
        "     print(f\"La multiplicación entre {self.num}/{self.den} y {pi.num}/{pi.den} es {r.num}/{r.den}\")\n",
        "     return r\n",
        "    else:\n",
        "      print(\"Pailas\")"
      ],
      "metadata": {
        "id": "NWM9Ql3x9-o3"
      },
      "execution_count": 116,
      "outputs": []
    },
    {
      "cell_type": "code",
      "source": [
        "a=Fraccion(8,6)\n",
        "b=Fraccion(5,2)"
      ],
      "metadata": {
        "id": "bGCYCPk5-IGp"
      },
      "execution_count": 121,
      "outputs": []
    },
    {
      "cell_type": "code",
      "source": [
        "a.imprimir()"
      ],
      "metadata": {
        "colab": {
          "base_uri": "https://localhost:8080/",
          "height": 36
        },
        "id": "mG3ocIXM-LOQ",
        "outputId": "a95d14fd-42c0-4c41-d680-4c8613434003"
      },
      "execution_count": 122,
      "outputs": [
        {
          "output_type": "execute_result",
          "data": {
            "text/plain": [
              "'El numerador es:8 y el denominador es:6 '"
            ],
            "application/vnd.google.colaboratory.intrinsic+json": {
              "type": "string"
            }
          },
          "metadata": {},
          "execution_count": 122
        }
      ]
    },
    {
      "cell_type": "code",
      "source": [
        "b.imprimir()"
      ],
      "metadata": {
        "colab": {
          "base_uri": "https://localhost:8080/",
          "height": 36
        },
        "id": "FxmCY8wJ-M6Z",
        "outputId": "277d1078-09fc-4494-8681-0f6644ac3b5f"
      },
      "execution_count": 123,
      "outputs": [
        {
          "output_type": "execute_result",
          "data": {
            "text/plain": [
              "'El numerador es:5 y el denominador es:2 '"
            ],
            "application/vnd.google.colaboratory.intrinsic+json": {
              "type": "string"
            }
          },
          "metadata": {},
          "execution_count": 123
        }
      ]
    },
    {
      "cell_type": "code",
      "source": [
        "f=b.multi(a)"
      ],
      "metadata": {
        "colab": {
          "base_uri": "https://localhost:8080/"
        },
        "id": "lARlPzGy-O-Z",
        "outputId": "a049ac86-f6e5-46be-ab9a-00daf5c2c1b0"
      },
      "execution_count": 124,
      "outputs": [
        {
          "output_type": "stream",
          "name": "stdout",
          "text": [
            "La multiplicación entre 5/2 y 8/6 es 40/12\n"
          ]
        }
      ]
    },
    {
      "cell_type": "markdown",
      "source": [
        "#Potencia"
      ],
      "metadata": {
        "id": "zxh6hQdf-gBB"
      }
    },
    {
      "cell_type": "code",
      "source": [
        "class Fraccion:\n",
        "  #Atributos de clase\n",
        "\n",
        "  #Creando el constructor\n",
        "  def __init__(self, num=0, den=1, exp=0):\n",
        "    self.num=num\n",
        "    self.den=den\n",
        "    self.exp=exp\n",
        "\n",
        "  def exp(self):\n",
        "   if self.exp<0:\n",
        "    num=self.den**self.exp\n",
        "    dem=self.num**self.exp\n",
        "\n",
        "   elif self.exp==0:\n",
        "     num=1\n",
        "     den=1\n",
        "     \n",
        "    r=Fraccion(num,dem)\n",
        "\n",
        "    return r\n",
        "    def imprime(self):\n",
        "     print(r.num,\"/\", r.deno)\n",
        "\n",
        " "
      ],
      "metadata": {
        "colab": {
          "base_uri": "https://localhost:8080/",
          "height": 135
        },
        "id": "X9wOu30j-fEQ",
        "outputId": "403815ec-0bc4-4940-db0b-8396841fde3e"
      },
      "execution_count": 126,
      "outputs": [
        {
          "output_type": "error",
          "ename": "SyntaxError",
          "evalue": "ignored",
          "traceback": [
            "\u001b[0;36m  File \u001b[0;32m\"<ipython-input-126-d0eb12007158>\"\u001b[0;36m, line \u001b[0;32m2\u001b[0m\n\u001b[0;31m    \u001b[0m\n\u001b[0m    ^\u001b[0m\n\u001b[0;31mSyntaxError\u001b[0m\u001b[0;31m:\u001b[0m unexpected EOF while parsing\n"
          ]
        }
      ]
    }
  ]
}