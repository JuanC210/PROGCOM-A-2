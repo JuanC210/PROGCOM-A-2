{
  "nbformat": 4,
  "nbformat_minor": 0,
  "metadata": {
    "colab": {
      "provenance": []
    },
    "kernelspec": {
      "name": "python3",
      "display_name": "Python 3"
    },
    "language_info": {
      "name": "python"
    }
  },
  "cells": [
    {
      "cell_type": "markdown",
      "source": [
        "#Listas por compresión\n",
        "\n",
        "Sintaxis newlist= [expresión(elemento) for n in oldList si condición]\n",
        "\n",
        "Esto técnicamente es colocar primero la expresión u operación y luego la condición."
      ],
      "metadata": {
        "id": "RPEwEZTB8uUK"
      }
    },
    {
      "cell_type": "code",
      "source": [
        "números=[n*2for  n in range (1,9)]\n",
        "print(números)"
      ],
      "metadata": {
        "colab": {
          "base_uri": "https://localhost:8080/"
        },
        "id": "S5bPnIJP9_n8",
        "outputId": "840eb13a-e530-477f-cb71-e36d827082f0"
      },
      "execution_count": 11,
      "outputs": [
        {
          "output_type": "stream",
          "name": "stdout",
          "text": [
            "[2, 4, 6, 8, 10, 12, 14, 16]\n"
          ]
        }
      ]
    },
    {
      "cell_type": "markdown",
      "source": [
        "Ventajas:\n",
        "\n",
        "Más efecientes en tiempos y espacio que los bucles, requiere menos líneas de codigo y transforma una declaración iterativa en una fórmula."
      ],
      "metadata": {
        "id": "1VheoHBc-g4H"
      }
    },
    {
      "cell_type": "code",
      "source": [
        "cadenas=[\"*\"*n for n in range(1,6)]\n",
        "print(cadenas)"
      ],
      "metadata": {
        "colab": {
          "base_uri": "https://localhost:8080/"
        },
        "id": "qp6s3HvK8suK",
        "outputId": "0a958d4d-ed61-40f9-9e18-f7c48dd8aa81"
      },
      "execution_count": 12,
      "outputs": [
        {
          "output_type": "stream",
          "name": "stdout",
          "text": [
            "['*', '**', '***', '****', '*****']\n"
          ]
        }
      ]
    },
    {
      "cell_type": "code",
      "source": [
        "número=[2,5,6,9,10]\n",
        "cuadrados=[n**2 for n in número]\n",
        "print(cuadrados)"
      ],
      "metadata": {
        "colab": {
          "base_uri": "https://localhost:8080/"
        },
        "id": "ALApKLHlAokP",
        "outputId": "2a10ee22-447c-463c-fcc9-5e3b6b6a0ae2"
      },
      "execution_count": 13,
      "outputs": [
        {
          "output_type": "stream",
          "name": "stdout",
          "text": [
            "[4, 25, 36, 81, 100]\n"
          ]
        }
      ]
    },
    {
      "cell_type": "code",
      "source": [
        "cadena= \"programación\"\n",
        "letras=[]\n",
        "for letra in cadena:\n",
        "  letras.append(letra)\n",
        "\n",
        "  print(letras)"
      ],
      "metadata": {
        "colab": {
          "base_uri": "https://localhost:8080/"
        },
        "id": "KEf3pP03CBjM",
        "outputId": "14ba1b93-7e64-4935-c8c8-454b7b3e05b0"
      },
      "execution_count": 14,
      "outputs": [
        {
          "output_type": "stream",
          "name": "stdout",
          "text": [
            "['p']\n",
            "['p', 'r']\n",
            "['p', 'r', 'o']\n",
            "['p', 'r', 'o', 'g']\n",
            "['p', 'r', 'o', 'g', 'r']\n",
            "['p', 'r', 'o', 'g', 'r', 'a']\n",
            "['p', 'r', 'o', 'g', 'r', 'a', 'm']\n",
            "['p', 'r', 'o', 'g', 'r', 'a', 'm', 'a']\n",
            "['p', 'r', 'o', 'g', 'r', 'a', 'm', 'a', 'c']\n",
            "['p', 'r', 'o', 'g', 'r', 'a', 'm', 'a', 'c', 'i']\n",
            "['p', 'r', 'o', 'g', 'r', 'a', 'm', 'a', 'c', 'i', 'ó']\n",
            "['p', 'r', 'o', 'g', 'r', 'a', 'm', 'a', 'c', 'i', 'ó', 'n']\n"
          ]
        }
      ]
    },
    {
      "cell_type": "code",
      "source": [
        "#Ejercicio by Samuelito\n",
        "x=input(\"Ingrese la palabra que desee: \")\n",
        "lista=[n for n in x]\n",
        "print(lista)"
      ],
      "metadata": {
        "colab": {
          "base_uri": "https://localhost:8080/"
        },
        "id": "JzCLXPC3ClHs",
        "outputId": "8c26f9b9-296b-44f5-cb7c-ab1ee2bfcc97"
      },
      "execution_count": 16,
      "outputs": [
        {
          "output_type": "stream",
          "name": "stdout",
          "text": [
            "Ingrese la palabra que desee: Hola\n",
            "['H', 'o', 'l', 'a']\n"
          ]
        }
      ]
    },
    {
      "cell_type": "code",
      "source": [
        "#Ejercicio Daniel Amado\n",
        "lista1=[2,7,10,9,8]\n",
        "lista2=[elementos**2 for elementos in lista1 if elementos%2==0]\n",
        "print(\"nueva lista\",lista2)"
      ],
      "metadata": {
        "colab": {
          "base_uri": "https://localhost:8080/"
        },
        "id": "pSwWkA3aDN9z",
        "outputId": "41f5f17b-503b-4325-d9ef-9c0945f950fb"
      },
      "execution_count": 21,
      "outputs": [
        {
          "output_type": "stream",
          "name": "stdout",
          "text": [
            "nueva lista [4, 100, 64]\n"
          ]
        }
      ]
    },
    {
      "cell_type": "code",
      "source": [
        "#Ejercicio Iván \n",
        "import random \n",
        "capitan=[random.randrange(1,30) for i in range(9)]\n",
        "print(\"Imprimir números aleatorios de la lista : \", str(capitan))"
      ],
      "metadata": {
        "colab": {
          "base_uri": "https://localhost:8080/"
        },
        "id": "xl-LKxxVD1S6",
        "outputId": "45c9ff92-9ad1-490f-d8f7-ab2e116f980b"
      },
      "execution_count": 22,
      "outputs": [
        {
          "output_type": "stream",
          "name": "stdout",
          "text": [
            "Imprimir números aleatorios de la lista :  [10, 8, 1, 4, 3, 18, 19, 4, 26]\n"
          ]
        }
      ]
    },
    {
      "cell_type": "code",
      "source": [
        "#Ejercico Juan Pablo\n",
        "precios=[]\n",
        "print(\"ingrese los números de los que quieres hacer un descuento\")\n",
        "det =True \n",
        "while det:\n",
        "  num=int(input(\"si no desea agregar mas números digite 0\"))\n",
        "  precios.append(num)\n",
        "  det = False if num == 0 else num>0\n",
        "des=float(input(print(\"ingrese el descuento sin el %\")))\n",
        "presdes = [precio*des/100 for precio in precios]\n",
        "presdes.pop(-1)\n",
        "print(\"este es el valor que le debes resta a cada número\",presdes)\n"
      ],
      "metadata": {
        "colab": {
          "base_uri": "https://localhost:8080/"
        },
        "id": "-ndmeqNuFIHD",
        "outputId": "1deab33f-70c4-42e4-df9b-674b35b5afef"
      },
      "execution_count": 26,
      "outputs": [
        {
          "output_type": "stream",
          "name": "stdout",
          "text": [
            "ingrese los números de los que quieres hacer un descuento\n",
            "si no desea agregar mas números digite 0100\n",
            "si no desea agregar mas números digite 0200\n",
            "si no desea agregar mas números digite 00\n",
            "ingrese el descuento sin el %\n",
            "None20\n",
            "este es el valor que le debes resta a cada número [20.0, 40.0]\n"
          ]
        }
      ]
    },
    {
      "cell_type": "code",
      "source": [
        "# Ejercicio Cristian\n",
        "num = []\n",
        "for i in range(6):\n",
        "  num.append(int(input(\"imtroduce el número ganador\")))\n",
        "num.sort()\n",
        "print(\"Los números ganadores del baloto son: \" + str(num))\n"
      ],
      "metadata": {
        "colab": {
          "base_uri": "https://localhost:8080/"
        },
        "id": "dbZXrOViHZ6g",
        "outputId": "e9f1fd9b-1558-486f-f114-3a21260944eb"
      },
      "execution_count": 28,
      "outputs": [
        {
          "output_type": "stream",
          "name": "stdout",
          "text": [
            "imtroduce el número ganador4\n",
            "imtroduce el número ganador7\n",
            "imtroduce el número ganador8\n",
            "imtroduce el número ganador2\n",
            "imtroduce el número ganador9\n",
            "imtroduce el número ganador5\n",
            "Los números ganadores del baloto son: [2, 4, 5, 7, 8, 9]\n"
          ]
        }
      ]
    }
  ]
}