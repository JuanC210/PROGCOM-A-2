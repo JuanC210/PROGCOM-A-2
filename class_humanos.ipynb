{
  "nbformat": 4,
  "nbformat_minor": 0,
  "metadata": {
    "colab": {
      "provenance": []
    },
    "kernelspec": {
      "name": "python3",
      "display_name": "Python 3"
    },
    "language_info": {
      "name": "python"
    }
  },
  "cells": [
    {
      "cell_type": "code",
      "execution_count": 4,
      "metadata": {
        "id": "Qv7G1gYbD41B"
      },
      "outputs": [],
      "source": [
        "class Humanos():\n",
        "  def __init__(self,nombre,edad,cuerpo,pierna,brazos,ojos,cabello,nariz,color_piel):\n",
        "    self.nombre=nombre\n",
        "    self.edad=edad\n",
        "    self.cuerpo=cuerpo\n",
        "    self.pierna=pierna\n",
        "    self.brazos=brazos\n",
        "    self.ojos=ojos\n",
        "    self.cabello=cabello\n",
        "    self.nariz=nariz\n",
        "    self.color_piel=color_piel\n",
        "\n",
        "  def caminar(self,aceleracion,velocidad):\n",
        "    if velocidad>0.5 and velocidad<1:\n",
        "      return f\"{self.name} está gateando\"\n",
        "    elif velocidad>2 and velocidad<5:\n",
        "      return f\"{self.nombre} está caminando\"\n",
        "    elif velocidad>=5 and velocidad<7:\n",
        "      return f\"{self.nombre} está trotando\"\n",
        "    elif velocidad>=7 and velocidad<10:\n",
        "      return f\"{self.nombre} está corriendo\"\n",
        "    elif velocidad>=1 and velocidad<2:\n",
        "      return f\"{self.nombre} está cojeando\"\n",
        "    else:\n",
        "      return f\"{self.nombre} está volando\"\n",
        "\n",
        "    def comer(self,saciedad):\n",
        "      if saciedad==0:\n",
        "        return f\"{self.nombre} tengo hambre\"\n",
        "      elif saciedad>0 and saciedad<1:\n",
        "        return f\"{self.nombre} sigo con hambre pero no tanta\"\n",
        "      elif saciedad>=1 and saciedad<2:\n",
        "        return f\"{self.nombre} sigo con hambre pero poquita\"\n",
        "      elif saciedad>=2 and saciedad<3:\n",
        "        return f\"{self.nombre} estoy algo saciado\"\n",
        "      elif saciedad>=3 and saciedad<4:\n",
        "        return f\"{self.nombre} estoy bien\"\n",
        "      else:\n",
        "        return f\"{self.nombre} estoy lleno ;D\"\n",
        "\n",
        "    "
      ]
    },
    {
      "cell_type": "code",
      "source": [
        "estudiante=Humanos(\"John\",16,\"Alto\",2,2,\"Sin ojos\",\"Rubio\",\"Pequeña\",\"Blanco\")\n",
        "estudiante.__dict__"
      ],
      "metadata": {
        "colab": {
          "base_uri": "https://localhost:8080/"
        },
        "id": "jS2yzS2UXDLS",
        "outputId": "c32d6a28-9f2f-4209-e5b7-90a5cc562ad8"
      },
      "execution_count": 7,
      "outputs": [
        {
          "output_type": "execute_result",
          "data": {
            "text/plain": [
              "{'nombre': 'John',\n",
              " 'edad': 16,\n",
              " 'cuerpo': 'Alto',\n",
              " 'pierna': 2,\n",
              " 'brazos': 2,\n",
              " 'ojos': 'Sin ojos',\n",
              " 'cabello': 'Rubio',\n",
              " 'nariz': 'Pequeña',\n",
              " 'color_piel': 'Blanco'}"
            ]
          },
          "metadata": {},
          "execution_count": 7
        }
      ]
    }
  ]
}