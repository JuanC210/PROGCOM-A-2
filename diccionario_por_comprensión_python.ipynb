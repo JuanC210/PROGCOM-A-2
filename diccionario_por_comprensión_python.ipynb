{
  "nbformat": 4,
  "nbformat_minor": 0,
  "metadata": {
    "colab": {
      "provenance": []
    },
    "kernelspec": {
      "name": "python3",
      "display_name": "Python 3"
    },
    "language_info": {
      "name": "python"
    }
  },
  "cells": [
    {
      "cell_type": "code",
      "execution_count": 1,
      "metadata": {
        "colab": {
          "base_uri": "https://localhost:8080/"
        },
        "id": "ibHx_S9NJLwV",
        "outputId": "f121fbad-230a-4113-e8c9-d16d3b96e370"
      },
      "outputs": [
        {
          "output_type": "stream",
          "name": "stdout",
          "text": [
            "{'Alex': 47, 'Bob': 88, 'Carol': 91, 'David': 24, 'Flow': 72, 'Katie': 17, 'Nate': 52}\n"
          ]
        }
      ],
      "source": [
        "import random\n",
        "clientes = [\"Alex\",\"Bob\",\"Carol\",\"David\",\"Flow\",\"Katie\",\"Nate\"] \n",
        "diccionario_descuentos = {clientes:random.randint(1,100) for clientes in clientes} #En Python, random.randint(i,j) retorna un valor entre i y j incluyendo ambos extremos.\n",
        "print(diccionario_descuentos)\n"
      ]
    },
    {
      "cell_type": "code",
      "source": [
        "import random\n",
        "estudiantes = [\"Alex\",\"Bob\",\"Carol\",\"David\",\"Flow\",\"Katie\",\"Nate\"]\n",
        "diccionario_edad = {estudiantes:random.randint(16,25) for estudiantes in estudiantes}#En Python, random.randint(i,j) retorna un valor entre i y j incluyendo ambos extremos.\n",
        "print(diccionario_edad)"
      ],
      "metadata": {
        "colab": {
          "base_uri": "https://localhost:8080/"
        },
        "id": "_y-J9BPxJj8C",
        "outputId": "829b3739-898e-4816-8cad-69b6195b20a2"
      },
      "execution_count": 2,
      "outputs": [
        {
          "output_type": "stream",
          "name": "stdout",
          "text": [
            "{'Alex': 25, 'Bob': 22, 'Carol': 18, 'David': 19, 'Flow': 19, 'Katie': 21, 'Nate': 17}\n"
          ]
        }
      ]
    },
    {
      "cell_type": "code",
      "source": [
        "import random\n",
        "Jugadores= [\"Alex\",\"Bob\",\"Carol\",\"David\",\"Flow\",\"Katie\",\"Nate\"]\n",
        "diccionario_Numero = {Jugadores:random.randint(10000,99999) for Jugadores in Jugadores}#En Python, random.randint(i,j) retorna un valor entre i y j incluyendo ambos extremos.\n",
        "print(diccionario_Numero)"
      ],
      "metadata": {
        "colab": {
          "base_uri": "https://localhost:8080/"
        },
        "id": "d_6qyJPJJllC",
        "outputId": "63c13063-d20f-48a3-c396-8a63c118cce6"
      },
      "execution_count": 3,
      "outputs": [
        {
          "output_type": "stream",
          "name": "stdout",
          "text": [
            "{'Alex': 69047, 'Bob': 29903, 'Carol': 10802, 'David': 46603, 'Flow': 81796, 'Katie': 84462, 'Nate': 89833}\n"
          ]
        }
      ]
    },
    {
      "cell_type": "code",
      "source": [
        "print(\"Descuento\")\n",
        "print()\n",
        "print(diccionario_descuentos) \n",
        "print()\n",
        "print(\"Edad\")\n",
        "print()\n",
        "print(diccionario_edad)\n",
        "print()\n",
        "print(\"Baloto\")\n",
        "print()\n",
        "print(diccionario_Numero)"
      ],
      "metadata": {
        "colab": {
          "base_uri": "https://localhost:8080/"
        },
        "id": "WLYsElcgJpeC",
        "outputId": "07f3fc32-5d83-45a9-cc9b-91f289335fa2"
      },
      "execution_count": 4,
      "outputs": [
        {
          "output_type": "stream",
          "name": "stdout",
          "text": [
            "Descuento\n",
            "\n",
            "{'Alex': 47, 'Bob': 88, 'Carol': 91, 'David': 24, 'Flow': 72, 'Katie': 17, 'Nate': 52}\n",
            "\n",
            "Edad\n",
            "\n",
            "{'Alex': 25, 'Bob': 22, 'Carol': 18, 'David': 19, 'Flow': 19, 'Katie': 21, 'Nate': 17}\n",
            "\n",
            "Baloto\n",
            "\n",
            "{'Alex': 69047, 'Bob': 29903, 'Carol': 10802, 'David': 46603, 'Flow': 81796, 'Katie': 84462, 'Nate': 89833}\n"
          ]
        }
      ]
    }
  ]
}