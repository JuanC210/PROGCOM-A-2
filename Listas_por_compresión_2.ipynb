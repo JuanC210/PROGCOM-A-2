{
  "nbformat": 4,
  "nbformat_minor": 0,
  "metadata": {
    "colab": {
      "provenance": []
    },
    "kernelspec": {
      "name": "python3",
      "display_name": "Python 3"
    },
    "language_info": {
      "name": "python"
    }
  },
  "cells": [
    {
      "cell_type": "markdown",
      "source": [
        "#Listas por compresión\n",
        "\n",
        "Sintaxis newlist= [expresión(elemento) for n in oldList si condición]\n",
        "\n",
        "Esto técnicamente es colocar primero la expresión u operación y luego la condición."
      ],
      "metadata": {
        "id": "RPEwEZTB8uUK"
      }
    },
    {
      "cell_type": "code",
      "source": [
        "números=[n*2for  n in range (1,9)]\n",
        "print(números)"
      ],
      "metadata": {
        "colab": {
          "base_uri": "https://localhost:8080/"
        },
        "id": "S5bPnIJP9_n8",
        "outputId": "840eb13a-e530-477f-cb71-e36d827082f0"
      },
      "execution_count": null,
      "outputs": [
        {
          "output_type": "stream",
          "name": "stdout",
          "text": [
            "[2, 4, 6, 8, 10, 12, 14, 16]\n"
          ]
        }
      ]
    },
    {
      "cell_type": "markdown",
      "source": [
        "Ventajas:\n",
        "\n",
        "Más efecientes en tiempos y espacio que los bucles, requiere menos líneas de codigo y transforma una declaración iterativa en una fórmula."
      ],
      "metadata": {
        "id": "1VheoHBc-g4H"
      }
    },
    {
      "cell_type": "code",
      "source": [
        "cadenas=[\"*\"*n for n in range(1,6)]\n",
        "print(cadenas)"
      ],
      "metadata": {
        "colab": {
          "base_uri": "https://localhost:8080/"
        },
        "id": "qp6s3HvK8suK",
        "outputId": "0a958d4d-ed61-40f9-9e18-f7c48dd8aa81"
      },
      "execution_count": null,
      "outputs": [
        {
          "output_type": "stream",
          "name": "stdout",
          "text": [
            "['*', '**', '***', '****', '*****']\n"
          ]
        }
      ]
    },
    {
      "cell_type": "code",
      "source": [
        "número=[2,5,6,9,10]\n",
        "cuadrados=[n**2 for n in número]\n",
        "print(cuadrados)"
      ],
      "metadata": {
        "colab": {
          "base_uri": "https://localhost:8080/"
        },
        "id": "ALApKLHlAokP",
        "outputId": "2a10ee22-447c-463c-fcc9-5e3b6b6a0ae2"
      },
      "execution_count": null,
      "outputs": [
        {
          "output_type": "stream",
          "name": "stdout",
          "text": [
            "[4, 25, 36, 81, 100]\n"
          ]
        }
      ]
    },
    {
      "cell_type": "code",
      "source": [
        "cadena= \"programación\"\n",
        "letras=[]\n",
        "for letra in cadena:\n",
        "  letras.append(letra)\n",
        "\n",
        "  print(letras)"
      ],
      "metadata": {
        "colab": {
          "base_uri": "https://localhost:8080/"
        },
        "id": "KEf3pP03CBjM",
        "outputId": "14ba1b93-7e64-4935-c8c8-454b7b3e05b0"
      },
      "execution_count": null,
      "outputs": [
        {
          "output_type": "stream",
          "name": "stdout",
          "text": [
            "['p']\n",
            "['p', 'r']\n",
            "['p', 'r', 'o']\n",
            "['p', 'r', 'o', 'g']\n",
            "['p', 'r', 'o', 'g', 'r']\n",
            "['p', 'r', 'o', 'g', 'r', 'a']\n",
            "['p', 'r', 'o', 'g', 'r', 'a', 'm']\n",
            "['p', 'r', 'o', 'g', 'r', 'a', 'm', 'a']\n",
            "['p', 'r', 'o', 'g', 'r', 'a', 'm', 'a', 'c']\n",
            "['p', 'r', 'o', 'g', 'r', 'a', 'm', 'a', 'c', 'i']\n",
            "['p', 'r', 'o', 'g', 'r', 'a', 'm', 'a', 'c', 'i', 'ó']\n",
            "['p', 'r', 'o', 'g', 'r', 'a', 'm', 'a', 'c', 'i', 'ó', 'n']\n"
          ]
        }
      ]
    },
    {
      "cell_type": "code",
      "source": [
        "#Ejercicio by Samuelito\n",
        "x=input(\"Ingrese la palabra que desee: \")\n",
        "lista=[n for n in x]\n",
        "print(lista)"
      ],
      "metadata": {
        "colab": {
          "base_uri": "https://localhost:8080/"
        },
        "id": "JzCLXPC3ClHs",
        "outputId": "8c26f9b9-296b-44f5-cb7c-ab1ee2bfcc97"
      },
      "execution_count": null,
      "outputs": [
        {
          "output_type": "stream",
          "name": "stdout",
          "text": [
            "Ingrese la palabra que desee: Hola\n",
            "['H', 'o', 'l', 'a']\n"
          ]
        }
      ]
    },
    {
      "cell_type": "code",
      "source": [
        "#Ejercicio Daniel Amado\n",
        "lista1=[2,7,10,9,8]\n",
        "lista2=[elementos**2 for elementos in lista1 if elementos%2==0]\n",
        "print(\"nueva lista\",lista2)"
      ],
      "metadata": {
        "colab": {
          "base_uri": "https://localhost:8080/"
        },
        "id": "pSwWkA3aDN9z",
        "outputId": "41f5f17b-503b-4325-d9ef-9c0945f950fb"
      },
      "execution_count": null,
      "outputs": [
        {
          "output_type": "stream",
          "name": "stdout",
          "text": [
            "nueva lista [4, 100, 64]\n"
          ]
        }
      ]
    },
    {
      "cell_type": "code",
      "source": [
        "#Ejercicio Iván \n",
        "import random \n",
        "capitan=[random.randrange(1,30) for i in range(9)]\n",
        "print(\"Imprimir números aleatorios de la lista : \", str(capitan))"
      ],
      "metadata": {
        "colab": {
          "base_uri": "https://localhost:8080/"
        },
        "id": "xl-LKxxVD1S6",
        "outputId": "45c9ff92-9ad1-490f-d8f7-ab2e116f980b"
      },
      "execution_count": null,
      "outputs": [
        {
          "output_type": "stream",
          "name": "stdout",
          "text": [
            "Imprimir números aleatorios de la lista :  [10, 8, 1, 4, 3, 18, 19, 4, 26]\n"
          ]
        }
      ]
    },
    {
      "cell_type": "code",
      "source": [
        "#Ejercico Juan Pablo\n",
        "precios=[]\n",
        "print(\"ingrese los números de los que quieres hacer un descuento\")\n",
        "det =True \n",
        "while det:\n",
        "  num=int(input(\"si no desea agregar mas números digite 0\"))\n",
        "  precios.append(num)\n",
        "  det = False if num == 0 else num>0\n",
        "des=float(input(print(\"ingrese el descuento sin el %\")))\n",
        "presdes = [precio*des/100 for precio in precios]\n",
        "presdes.pop(-1)\n",
        "print(\"este es el valor que le debes resta a cada número\",presdes)\n"
      ],
      "metadata": {
        "colab": {
          "base_uri": "https://localhost:8080/"
        },
        "id": "-ndmeqNuFIHD",
        "outputId": "1deab33f-70c4-42e4-df9b-674b35b5afef"
      },
      "execution_count": null,
      "outputs": [
        {
          "output_type": "stream",
          "name": "stdout",
          "text": [
            "ingrese los números de los que quieres hacer un descuento\n",
            "si no desea agregar mas números digite 0100\n",
            "si no desea agregar mas números digite 0200\n",
            "si no desea agregar mas números digite 00\n",
            "ingrese el descuento sin el %\n",
            "None20\n",
            "este es el valor que le debes resta a cada número [20.0, 40.0]\n"
          ]
        }
      ]
    },
    {
      "cell_type": "code",
      "source": [
        "# Ejercicio Cristian\n",
        "num = []\n",
        "for i in range(6):\n",
        "  num.append(int(input(\"imtroduce el número ganador\")))\n",
        "num.sort()\n",
        "print(\"Los números ganadores del baloto son: \" + str(num))\n"
      ],
      "metadata": {
        "colab": {
          "base_uri": "https://localhost:8080/"
        },
        "id": "dbZXrOViHZ6g",
        "outputId": "e9f1fd9b-1558-486f-f114-3a21260944eb"
      },
      "execution_count": null,
      "outputs": [
        {
          "output_type": "stream",
          "name": "stdout",
          "text": [
            "imtroduce el número ganador4\n",
            "imtroduce el número ganador7\n",
            "imtroduce el número ganador8\n",
            "imtroduce el número ganador2\n",
            "imtroduce el número ganador9\n",
            "imtroduce el número ganador5\n",
            "Los números ganadores del baloto son: [2, 4, 5, 7, 8, 9]\n"
          ]
        }
      ]
    },
    {
      "cell_type": "code",
      "source": [
        "#Ejercicio Julito\n",
        "#Tradicional\n",
        "n=int(input(\"Ingrese el número de palabras que vas a ingresar\"))\n",
        "x=0\n",
        "lista=[]\n",
        "for i in range(n):\n",
        "  l=str(input(\"Ingresa la palabra\"))\n",
        "  if l.isupper():lista.append(l)\n",
        "  if l.islower():lista.append(l)\n",
        "\n",
        "\n"
      ],
      "metadata": {
        "colab": {
          "base_uri": "https://localhost:8080/"
        },
        "id": "ZgxgjsYkt7pr",
        "outputId": "6f74950a-1d82-42d1-d9de-16e54c8b3e22"
      },
      "execution_count": 4,
      "outputs": [
        {
          "name": "stdout",
          "output_type": "stream",
          "text": [
            "Ingrese el número de palabras que vas a ingresar1\n",
            "Ingresa la palabrahola\n"
          ]
        }
      ]
    },
    {
      "cell_type": "code",
      "source": [
        "#Compresión \n",
        "n=int(input(\"Ingrese el número de palabras que vas a ingresar\"))\n",
        "lista=[]\n",
        "for i in range(n):\n",
        "  l=input(\"Ingrese la palabra\")\n",
        "\n",
        "lista_comprimida_M=[elemento for elemento in lista if elemento.isuppper()]\n",
        "lista_comprimida_m=[elemento for elemento in lista if elemento.isuppper()]\n",
        "\n",
        "print(\"Las palabras escritas en mayúsculas son\")\n",
        "print(lista_comprimida_M)\n",
        "print(\"Las palabras escritas en minúsculas son\")\n",
        "print(lista_comprimida_m)"
      ],
      "metadata": {
        "id": "PifeeXVf0IRu"
      },
      "execution_count": null,
      "outputs": []
    },
    {
      "cell_type": "code",
      "source": [
        "#Lambda\n",
        "lista_comprimida_M=list(map(lambda elemento:True if elemento.issupper()else False,lista))\n",
        "lista_comprimida_m=list(map(lambda elemento:True if elemento.issupper()else False,lista)) \n",
        "\n",
        "print(\"Las palabras escritas en mayúsculas son\")\n",
        "print(lista_comprimida_M)\n",
        "print(\"Las palabras escritas en minúsculas son\")\n",
        "print(lista_comprimida_m)"
      ],
      "metadata": {
        "id": "T3zqh9Z14N7m"
      },
      "execution_count": null,
      "outputs": []
    },
    {
      "cell_type": "code",
      "source": [
        "#Ejercicio Leslie\n",
        "#Tradicional\n",
        "def pali(word):\n",
        "  rev=word[::-1]\n",
        "  return word==rev\n",
        "word=input(\"Digite una palabra\")\n",
        "final=pali(word)\n",
        "if final == True:\n",
        "  print(f\"{word} es una palabra palindromo\")\n",
        "else:\n",
        "  print(f\"{word} no es una palabra palindromo\")"
      ],
      "metadata": {
        "colab": {
          "base_uri": "https://localhost:8080/"
        },
        "id": "NEo0Cny46m7b",
        "outputId": "d1f831d5-eded-4a13-eb80-0afa60652457"
      },
      "execution_count": 6,
      "outputs": [
        {
          "output_type": "stream",
          "name": "stdout",
          "text": [
            "Digite una palabraALA\n",
            "ALA es una palabra palindromo\n"
          ]
        }
      ]
    },
    {
      "cell_type": "code",
      "source": [
        "#Compresión\n",
        "c=input(\"Digite la cantidad de elementos que deseas ingresar:\")\n",
        "lista=[]\n",
        "for i in range(c):\n",
        "  word=input(\"Escribe aquí:\").lower()\n",
        "  lista.append(word)\n",
        "print(lista1)\n",
        "lista2=list((map()))"
      ],
      "metadata": {
        "id": "3Q0biw7171Av"
      },
      "execution_count": null,
      "outputs": []
    },
    {
      "cell_type": "code",
      "source": [
        "#lambda\n",
        "c=input(\"Digite la cantidad de elementos que deseas ingresar:\")\n",
        "lista1=[]\n",
        "for i in range(c):\n",
        "  word=input(\"Escribe aquí:\").lower()\n",
        "  lista1.append(word)\n",
        "print(lista1)\n",
        "lista2=list((map(lambda x:True if x==x[::-1] else False,lista1)))"
      ],
      "metadata": {
        "id": "MO4lCJpn9YzS"
      },
      "execution_count": null,
      "outputs": []
    },
    {
      "cell_type": "code",
      "source": [
        "#Ejercicio by\n",
        "import random \n",
        "stock=[\"Martillo\", \"Alicate\", \"Clavo\", \"Perno\"]\n",
        "cality=[\"GOOD\",\"FAIL\"]\n",
        "a=[]\n",
        "for i in stock:\n",
        "  a.append((i,random.choice(cality)))\n",
        "listg=[]\n",
        "listf=[]\n",
        "for x in a:\n",
        "  if \"GOOD\" in x:\n",
        "    listg.append(x)\n",
        "    print(listg)\n",
        "  elif \"Fail\" in x:\n",
        "   listf.append(x)\n",
        "print(listf)\n",
        "print(listg) "
      ],
      "metadata": {
        "colab": {
          "base_uri": "https://localhost:8080/"
        },
        "id": "rp0wroyE93uJ",
        "outputId": "a72053dd-35f6-48e8-c206-c453bbe77b53"
      },
      "execution_count": 12,
      "outputs": [
        {
          "output_type": "stream",
          "name": "stdout",
          "text": [
            "[('Alicate', 'GOOD')]\n",
            "[('Alicate', 'GOOD'), ('Clavo', 'GOOD')]\n",
            "[('Alicate', 'GOOD'), ('Clavo', 'GOOD'), ('Perno', 'GOOD')]\n",
            "[]\n",
            "[('Alicate', 'GOOD'), ('Clavo', 'GOOD'), ('Perno', 'GOOD')]\n"
          ]
        }
      ]
    },
    {
      "cell_type": "code",
      "source": [
        "#Compresión\n",
        "import random \n",
        "stock=[\"Martillo\", \"Alicate\", \"Clavo\", \"Perno\"]\n",
        "cality=[\"GOOD\",\"FAIL\"]\n",
        "a=[]\n",
        "for i in stock:\n",
        "  a.append((i,random.choice(cality)))\n",
        "listg=[]\n",
        "listf=[]\n",
        "listg=[x for x in a if \"GOOD\" in x]\n",
        "listf=[x for x in a if \"FAIL\" in x]\n",
        "print(listg,listf)"
      ],
      "metadata": {
        "colab": {
          "base_uri": "https://localhost:8080/"
        },
        "id": "vDpi5kk-AzKw",
        "outputId": "a0f0d017-2545-4a2e-9826-bd7c62e6acc7"
      },
      "execution_count": 9,
      "outputs": [
        {
          "output_type": "stream",
          "name": "stdout",
          "text": [
            "[('Clavo', 'GOOD')] [('Martillo', 'FAIL'), ('Alicate', 'FAIL'), ('Perno', 'FAIL')]\n"
          ]
        }
      ]
    },
    {
      "cell_type": "code",
      "source": [
        "from os import XATTR_SIZE_MAX\n",
        "#Lambda\n",
        "import random \n",
        "stock=[\"Martillo\", \"Alicate\", \"Clavo\", \"Perno\"]\n",
        "cality=[\"GOOD\",\"FAIL\"]\n",
        "a=[]\n",
        "for i in stock:\n",
        "  a.append((i,random.choice(cality)))\n",
        "listg=[]\n",
        "listf=[]\n",
        "listg = list(filter(lambda x: x == \"GOOD\",a[0][1]))\n",
        "print(listg)\n",
        "listf = list(filter(lambda x: x == \"FAIL\",a[0][1]))\n",
        "print(listf)\n"
      ],
      "metadata": {
        "colab": {
          "base_uri": "https://localhost:8080/"
        },
        "id": "9El3MJwmANwj",
        "outputId": "694de9bf-5a46-4d5e-9263-d3731e321f48"
      },
      "execution_count": 15,
      "outputs": [
        {
          "output_type": "stream",
          "name": "stdout",
          "text": [
            "[]\n",
            "[]\n"
          ]
        }
      ]
    },
    {
      "cell_type": "code",
      "source": [
        "#Ejercico Paula\n",
        "def capitalizar(oración):\n",
        "  lista1=[]\n",
        "  for l in nl:\n",
        "    lista.append(1)\n",
        "    lista[0]=nl[0].upper()\n",
        "  print(\"\".join(lista1))"
      ],
      "metadata": {
        "id": "hRLXP6vBGlv0"
      },
      "execution_count": 17,
      "outputs": []
    },
    {
      "cell_type": "code",
      "source": [
        "nl=input(\"Ingresa una oración\")\n",
        "oración=capitalizar(nl)\n",
        "oración"
      ],
      "metadata": {
        "colab": {
          "base_uri": "https://localhost:8080/"
        },
        "id": "tvHlyqtXHdhx",
        "outputId": "e956a21c-410d-4e22-a32f-f728945e12fd"
      },
      "execution_count": 18,
      "outputs": [
        {
          "output_type": "stream",
          "name": "stdout",
          "text": [
            "Ingresa una oraciónHola\n",
            "\n"
          ]
        }
      ]
    },
    {
      "cell_type": "code",
      "source": [
        "listap=[]\n",
        "n=input(\"Ingresa una oración\")\n",
        "for l in n:\n",
        "  listap.append(l)\n",
        "  listap[0]=n[0].upper()\n",
        "print(\"\".join(listap))"
      ],
      "metadata": {
        "colab": {
          "base_uri": "https://localhost:8080/"
        },
        "id": "shU6EWwhIfCG",
        "outputId": "1f9265a2-584f-4021-cb29-f5af27cbc4ae"
      },
      "execution_count": 20,
      "outputs": [
        {
          "output_type": "stream",
          "name": "stdout",
          "text": [
            "Ingresa una oraciónHola\n",
            "Hola\n"
          ]
        }
      ]
    },
    {
      "cell_type": "code",
      "source": [
        "#Lambda\n",
        "n3=lambda x:x[0].upper()+x[1::]\n",
        "n=n3(n)\n",
        "n"
      ],
      "metadata": {
        "colab": {
          "base_uri": "https://localhost:8080/",
          "height": 35
        },
        "id": "G5nO5hxZORCz",
        "outputId": "ab428ebc-5e02-438a-d74e-8700ad9abcc2"
      },
      "execution_count": 28,
      "outputs": [
        {
          "output_type": "execute_result",
          "data": {
            "text/plain": [
              "'Hola'"
            ],
            "application/vnd.google.colaboratory.intrinsic+json": {
              "type": "string"
            }
          },
          "metadata": {},
          "execution_count": 28
        }
      ]
    },
    {
      "cell_type": "code",
      "source": [
        "#Ejercicio Francisco Miranda\n",
        "#Tradicional\n",
        "import random\n",
        "palabras=[\"a\",\"e\",\"i\",\"o\",\"u\"]\n",
        "número=[1,2,3,4,5,6,7,8,9]\n",
        "generador=[]\n",
        "for i in range(0,5):\n",
        " generador.append(random.choice(palabras))\n",
        " generador.append(random.choice(número))\n",
        "print(generador)"
      ],
      "metadata": {
        "colab": {
          "base_uri": "https://localhost:8080/"
        },
        "id": "GlHuGRTwJetE",
        "outputId": "b12d2629-2450-4298-b550-501f311b5c56"
      },
      "execution_count": 25,
      "outputs": [
        {
          "output_type": "stream",
          "name": "stdout",
          "text": [
            "['o', 2, 'o', 1, 'i', 3, 'u', 2, 'e', 9]\n"
          ]
        }
      ]
    },
    {
      "cell_type": "code",
      "source": [
        "#Compresión\n",
        "import random\n",
        "x=input(\"Ingrese la palabra de la contraseña\")\n",
        "palabras=[letra for letra in x]\n",
        "números2=[num for num in range(0,10)]\n",
        "generador=[random.choice(palabras) or random.choice(números2) for num in range(0,11)]\n",
        "print(generador)\n"
      ],
      "metadata": {
        "colab": {
          "base_uri": "https://localhost:8080/"
        },
        "id": "kBLrdgarKerM",
        "outputId": "162e8c6b-5e97-4e09-fdab-f50fa23df742"
      },
      "execution_count": 24,
      "outputs": [
        {
          "output_type": "stream",
          "name": "stdout",
          "text": [
            "Ingrese la palabra de la contraseñaHola\n",
            "['H', 'a', 'H', 'H', 'H', 'l', 'o', 'a', 'l', 'o', 'a']\n"
          ]
        }
      ]
    },
    {
      "cell_type": "code",
      "source": [
        "#Lambda\n",
        "import random\n",
        "x=input(\"Ingrese la palabra de la contraseña\")\n",
        "palabras=[letra for letra in x]\n",
        "números2=[num for num in range(0,10)]\n",
        "generador2=[random.choice(list(map(lambda x:x, números2))) or random.choice(sorted(palabras, key= lambda letra: letra in palabras))for num in range(0,11)]\n",
        "print(generador2)"
      ],
      "metadata": {
        "colab": {
          "base_uri": "https://localhost:8080/"
        },
        "id": "2qLdNDy8LohP",
        "outputId": "0aa248d0-7935-427a-c85c-3b4540e47028"
      },
      "execution_count": 27,
      "outputs": [
        {
          "output_type": "stream",
          "name": "stdout",
          "text": [
            "Ingrese la palabra de la contraseñahola\n",
            "[9, 7, 4, 4, 7, 'l', 4, 8, 7, 6, 4]\n"
          ]
        }
      ]
    },
    {
      "cell_type": "code",
      "source": [
        "#Ejercicio Ana\n",
        "#Tradicional\n",
        "print(\"¡Hola! Soy Lucía del sistema de asignación de turnos para pasaporte de la Gobernación \\n Solo las personas mayores de edad tendrán su cita mañana en el rango de 6am a 12 pm \\n y los menores de edad la tendrán en el rango de 2pm a 6pm \\n \" )\n",
        "lista1=[('Pedro',33),('Ana',3),('Juan',13),('Carla',45)]\n",
        "lista2=[]\n",
        "lista3=[]\n",
        "for elemento in lista1:\n",
        "  if elemento[1]>=18:\n",
        "    lista2.append(elemento)\n",
        "print(f'{lista2} tendrán la cita a las 8am y 10am respectivamente')\n",
        "\n",
        "for elemento in lista1:\n",
        "  if elemento[1]<18:\n",
        "    lista3.append(elemento)\n",
        "print(f'{lista3} tendrán la cita a las 2pm y 4pm respectivamente')"
      ],
      "metadata": {
        "id": "HSD9uFqwNavL"
      },
      "execution_count": null,
      "outputs": []
    },
    {
      "cell_type": "code",
      "source": [
        "#Compresión\n",
        "print(\"¡Hola! Soy Lucía del sistema de asignación de turnos para pasaporte de la Gobernación \\n Solo las personas mayores de edad tendrán su cita mañana en el rango de 6am a 12 pm \\n y los menores de edad la tendrán en el rango de 2pm a 6pm \\n \" )\n",
        "personas=[('Pedro',33),('Ana',3),('Juan',13),('Carla',45)]\n",
        "\n",
        "\n",
        "personas_mayores=[per for per in personas if per[1]>=18]\n",
        "print(f'{personas_mayores} tendrán la cita a las 8am y 10am respectivamente')\n",
        "\n",
        "personas_menores=[per for per in personas if per[1]<18]\n",
        "print(f'{personas_menores} tendrán la cita a las 2pm y 4pm respectivamente')"
      ],
      "metadata": {
        "id": "OM7aDz_vPvf8"
      },
      "execution_count": null,
      "outputs": []
    },
    {
      "cell_type": "code",
      "source": [
        "#lambda\n",
        "print(\"¡Hola! Soy Lucía del sistema de asignación de turnos para pasaporte de la Gobernación \\n Solo las personas mayores de edad tendrán su cita mañana en el rango de 6am a 12 pm \\n y los menores de edad la tendrán en el rango de 2pm a 6pm \\n \" )\n",
        "personas=[('Pedro',33),('Ana',3),('Juan',13),('Carla',45)]\n",
        "perma=list(filter(lambda may: may[1]>=18,personas ))\n",
        "perma\n",
        "print(f'{perma} tendrán la cita a las 8am y 10am respectivamente')\n",
        "\n",
        "perme=list(filter(lambda men: men[1]<18,personas ))\n",
        "perme\n",
        "print(f'{perme} tendrán la cita a las 2pm y 4pm respectivamente')"
      ],
      "metadata": {
        "id": "2rUDJZ37P5_j"
      },
      "execution_count": null,
      "outputs": []
    }
  ]
}